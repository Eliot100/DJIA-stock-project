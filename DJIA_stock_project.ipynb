{
  "nbformat": 4,
  "nbformat_minor": 0,
  "metadata": {
    "colab": {
      "name": "DJIA stock project.ipynb",
      "provenance": [],
      "collapsed_sections": []
    },
    "kernelspec": {
      "display_name": "Python 3",
      "name": "python3"
    }
  },
  "cells": [
    {
      "cell_type": "markdown",
      "metadata": {
        "id": "jjup7Ljx-7K5"
      },
      "source": [
        "# Welcome to our stock prdiction notebook!\r\n",
        "# In this notebook we are trying to prdict closeing price of the DJIA stock using the last 59 stock data and the opening price of the day from Yahoo Finance, and also the top 25 rated news of the current day from Reddit WorldNews Channel.\r\n",
        "\r\n",
        "# the matirials for this project was taken from: https://www.kaggle.com/aaron7sun/stocknews?select=Combined_News_DJIA.csv\r\n",
        " \r\n",
        "# In the next cell we are importing the liberys that we using in this project to manipulate the data."
      ]
    },
    {
      "cell_type": "code",
      "metadata": {
        "id": "bDUQkKf_jq-p"
      },
      "source": [
        "import pandas as pd\n",
        "import numpy as np\n",
        "from sklearn.preprocessing import MinMaxScaler"
      ],
      "execution_count": 1,
      "outputs": []
    },
    {
      "cell_type": "markdown",
      "metadata": {
        "id": "OGRslYvnEyaX"
      },
      "source": [
        "# In the next cell we importing the data from our github progect: https://github.com/Eliot100/DJIA-stock-project"
      ]
    },
    {
      "cell_type": "code",
      "metadata": {
        "id": "x8X7Wvabnrfg"
      },
      "source": [
        "df_RedditNews = pd.read_csv('https://raw.githubusercontent.com/Eliot100/DJIA-stock-project/main/RedditNews.csv')\n",
        "df_DJIA = pd.read_csv('https://raw.githubusercontent.com/Eliot100/DJIA-stock-project/main/upload_DJIA_table.csv')\n",
        "df_Combined_News_DJIA = pd.read_csv('https://raw.githubusercontent.com/Eliot100/DJIA-stock-project/main/Combined_News_DJIA.csv')"
      ],
      "execution_count": 2,
      "outputs": []
    },
    {
      "cell_type": "markdown",
      "metadata": {
        "id": "I7xkbxFTGz5g"
      },
      "source": [
        "# In the cell below we copying the stock data, and normalize it."
      ]
    },
    {
      "cell_type": "code",
      "metadata": {
        "colab": {
          "base_uri": "https://localhost:8080/",
          "height": 204
        },
        "id": "08KB3HKENk3T",
        "outputId": "f4386536-0a60-4039-c8a1-9c53b03f9419"
      },
      "source": [
        "scaler = MinMaxScaler(feature_range=(-1, 1))\n",
        "df_DJIA2 = df_DJIA.copy()\n",
        "df_DJIA2[['Open', 'High', 'Low', 'Close', 'Volume', 'Adj Close']] = \\\n",
        "  scaler.fit_transform(df_DJIA2[['Open', 'High', 'Low', 'Close', 'Volume', 'Adj Close']])\n",
        "  \n",
        "df_DJIA2.head()"
      ],
      "execution_count": 3,
      "outputs": [
        {
          "output_type": "execute_result",
          "data": {
            "text/html": [
              "<div>\n",
              "<style scoped>\n",
              "    .dataframe tbody tr th:only-of-type {\n",
              "        vertical-align: middle;\n",
              "    }\n",
              "\n",
              "    .dataframe tbody tr th {\n",
              "        vertical-align: top;\n",
              "    }\n",
              "\n",
              "    .dataframe thead th {\n",
              "        text-align: right;\n",
              "    }\n",
              "</style>\n",
              "<table border=\"1\" class=\"dataframe\">\n",
              "  <thead>\n",
              "    <tr style=\"text-align: right;\">\n",
              "      <th></th>\n",
              "      <th>Date</th>\n",
              "      <th>Open</th>\n",
              "      <th>High</th>\n",
              "      <th>Low</th>\n",
              "      <th>Close</th>\n",
              "      <th>Volume</th>\n",
              "      <th>Adj Close</th>\n",
              "    </tr>\n",
              "  </thead>\n",
              "  <tbody>\n",
              "    <tr>\n",
              "      <th>0</th>\n",
              "      <td>2016-07-01</td>\n",
              "      <td>0.933579</td>\n",
              "      <td>0.940047</td>\n",
              "      <td>0.939734</td>\n",
              "      <td>0.938290</td>\n",
              "      <td>-0.778698</td>\n",
              "      <td>0.938290</td>\n",
              "    </tr>\n",
              "    <tr>\n",
              "      <th>1</th>\n",
              "      <td>2016-06-30</td>\n",
              "      <td>0.897638</td>\n",
              "      <td>0.927717</td>\n",
              "      <td>0.904977</td>\n",
              "      <td>0.934995</td>\n",
              "      <td>-0.626052</td>\n",
              "      <td>0.934995</td>\n",
              "    </tr>\n",
              "    <tr>\n",
              "      <th>2</th>\n",
              "      <td>2016-06-29</td>\n",
              "      <td>0.854005</td>\n",
              "      <td>0.888874</td>\n",
              "      <td>0.861634</td>\n",
              "      <td>0.894995</td>\n",
              "      <td>-0.706021</td>\n",
              "      <td>0.894995</td>\n",
              "    </tr>\n",
              "    <tr>\n",
              "      <th>3</th>\n",
              "      <td>2016-06-28</td>\n",
              "      <td>0.808881</td>\n",
              "      <td>0.838231</td>\n",
              "      <td>0.816642</td>\n",
              "      <td>0.846554</td>\n",
              "      <td>-0.688587</td>\n",
              "      <td>0.846554</td>\n",
              "    </tr>\n",
              "    <tr>\n",
              "      <th>4</th>\n",
              "      <td>2016-06-27</td>\n",
              "      <td>0.836872</td>\n",
              "      <td>0.828866</td>\n",
              "      <td>0.795049</td>\n",
              "      <td>0.800745</td>\n",
              "      <td>-0.608918</td>\n",
              "      <td>0.800745</td>\n",
              "    </tr>\n",
              "  </tbody>\n",
              "</table>\n",
              "</div>"
            ],
            "text/plain": [
              "         Date      Open      High       Low     Close    Volume  Adj Close\n",
              "0  2016-07-01  0.933579  0.940047  0.939734  0.938290 -0.778698   0.938290\n",
              "1  2016-06-30  0.897638  0.927717  0.904977  0.934995 -0.626052   0.934995\n",
              "2  2016-06-29  0.854005  0.888874  0.861634  0.894995 -0.706021   0.894995\n",
              "3  2016-06-28  0.808881  0.838231  0.816642  0.846554 -0.688587   0.846554\n",
              "4  2016-06-27  0.836872  0.828866  0.795049  0.800745 -0.608918   0.800745"
            ]
          },
          "metadata": {
            "tags": []
          },
          "execution_count": 3
        }
      ]
    },
    {
      "cell_type": "markdown",
      "metadata": {
        "id": "9BZ2PUhzHssd"
      },
      "source": [
        "# In the cell below we reorgnize the data. Every line is contains stock data of 60 days in a row, the date of the stock data last day and top 25 rated news this day."
      ]
    },
    {
      "cell_type": "code",
      "metadata": {
        "colab": {
          "base_uri": "https://localhost:8080/"
        },
        "id": "EXldyEiwMHFQ",
        "outputId": "b78ed38b-4083-4518-cb34-985728b38e3a"
      },
      "source": [
        "df_Combined = df_DJIA2.copy()\n",
        "for i in range(0,59):\n",
        "  df_Combined[str(i+1)+\" day before Open\"] = \"\"\n",
        "  df_Combined[str(i+1)+\" day before High\"] = \"\"\n",
        "  df_Combined[str(i+1)+\" day before Low\"] = \"\"\n",
        "  df_Combined[str(i+1)+\" day before Close\"] = \"\"\n",
        "  df_Combined[str(i+1)+\" day before Volume\"] = \"\"\n",
        "  df_Combined[str(i+1)+\" day before Adj Close\"] = \"\"\n",
        "\n",
        "for i in range(0,25):\n",
        "  df_Combined[\"Top\"+str(i+1)] = \"\"\n",
        "\n",
        "for j in range(0, df_DJIA2.shape[0]-59):\n",
        "  for i in range(0, 59):\n",
        "    df_Combined[str(i+1)+\" day before Open\"][j] = df_Combined[\"Open\"][j+i+1]\n",
        "    df_Combined[str(i+1)+\" day before High\"][j] = df_Combined[\"High\"][j+i+1]\n",
        "    df_Combined[str(i+1)+\" day before Low\"][j] = df_Combined[\"Low\"][j+i+1]\n",
        "    df_Combined[str(i+1)+\" day before Close\"][j] = df_Combined[\"Close\"][j+i+1]\n",
        "    df_Combined[str(i+1)+\" day before Volume\"][j] = df_Combined[\"Volume\"][j+i+1]\n",
        "    df_Combined[str(i+1)+\" day before Adj Close\"][j] = df_Combined[\"Adj Close\"][j+i+1]\n",
        "\n",
        "for i in range(0,25):\n",
        "  df_Combined[\"Top\"+str(i+1)] = \"\"\n",
        "\n",
        "for i in range(0, df_DJIA2.shape[0]):\n",
        "  News_Date_array = df_RedditNews[df_RedditNews[\"Date\"] == df_Combined[\"Date\"][i]][\"News\"].to_numpy()\n",
        "  for j in range(0, News_Date_array.shape[0]):\n",
        "    df_Combined[\"Top\"+str(j+1)][i] = News_Date_array[j]\n",
        "\n",
        "df_Combined = df_Combined[:-59]"
      ],
      "execution_count": 4,
      "outputs": [
        {
          "output_type": "stream",
          "text": [
            "/usr/local/lib/python3.6/dist-packages/ipykernel_launcher.py:15: SettingWithCopyWarning: \n",
            "A value is trying to be set on a copy of a slice from a DataFrame\n",
            "\n",
            "See the caveats in the documentation: https://pandas.pydata.org/pandas-docs/stable/user_guide/indexing.html#returning-a-view-versus-a-copy\n",
            "  from ipykernel import kernelapp as app\n",
            "/usr/local/lib/python3.6/dist-packages/ipykernel_launcher.py:16: SettingWithCopyWarning: \n",
            "A value is trying to be set on a copy of a slice from a DataFrame\n",
            "\n",
            "See the caveats in the documentation: https://pandas.pydata.org/pandas-docs/stable/user_guide/indexing.html#returning-a-view-versus-a-copy\n",
            "  app.launch_new_instance()\n",
            "/usr/local/lib/python3.6/dist-packages/ipykernel_launcher.py:17: SettingWithCopyWarning: \n",
            "A value is trying to be set on a copy of a slice from a DataFrame\n",
            "\n",
            "See the caveats in the documentation: https://pandas.pydata.org/pandas-docs/stable/user_guide/indexing.html#returning-a-view-versus-a-copy\n",
            "/usr/local/lib/python3.6/dist-packages/ipykernel_launcher.py:18: SettingWithCopyWarning: \n",
            "A value is trying to be set on a copy of a slice from a DataFrame\n",
            "\n",
            "See the caveats in the documentation: https://pandas.pydata.org/pandas-docs/stable/user_guide/indexing.html#returning-a-view-versus-a-copy\n",
            "/usr/local/lib/python3.6/dist-packages/ipykernel_launcher.py:19: SettingWithCopyWarning: \n",
            "A value is trying to be set on a copy of a slice from a DataFrame\n",
            "\n",
            "See the caveats in the documentation: https://pandas.pydata.org/pandas-docs/stable/user_guide/indexing.html#returning-a-view-versus-a-copy\n",
            "/usr/local/lib/python3.6/dist-packages/ipykernel_launcher.py:20: SettingWithCopyWarning: \n",
            "A value is trying to be set on a copy of a slice from a DataFrame\n",
            "\n",
            "See the caveats in the documentation: https://pandas.pydata.org/pandas-docs/stable/user_guide/indexing.html#returning-a-view-versus-a-copy\n",
            "/usr/local/lib/python3.6/dist-packages/ipykernel_launcher.py:28: SettingWithCopyWarning: \n",
            "A value is trying to be set on a copy of a slice from a DataFrame\n",
            "\n",
            "See the caveats in the documentation: https://pandas.pydata.org/pandas-docs/stable/user_guide/indexing.html#returning-a-view-versus-a-copy\n"
          ],
          "name": "stderr"
        }
      ]
    },
    {
      "cell_type": "code",
      "metadata": {
        "colab": {
          "base_uri": "https://localhost:8080/",
          "height": 468
        },
        "id": "Te1WmkTyv64J",
        "outputId": "7e92662a-c04f-4cbf-a85a-5a67ab7307dc"
      },
      "source": [
        "df_Combined.head(2)"
      ],
      "execution_count": 5,
      "outputs": [
        {
          "output_type": "execute_result",
          "data": {
            "text/html": [
              "<div>\n",
              "<style scoped>\n",
              "    .dataframe tbody tr th:only-of-type {\n",
              "        vertical-align: middle;\n",
              "    }\n",
              "\n",
              "    .dataframe tbody tr th {\n",
              "        vertical-align: top;\n",
              "    }\n",
              "\n",
              "    .dataframe thead th {\n",
              "        text-align: right;\n",
              "    }\n",
              "</style>\n",
              "<table border=\"1\" class=\"dataframe\">\n",
              "  <thead>\n",
              "    <tr style=\"text-align: right;\">\n",
              "      <th></th>\n",
              "      <th>Date</th>\n",
              "      <th>Open</th>\n",
              "      <th>High</th>\n",
              "      <th>Low</th>\n",
              "      <th>Close</th>\n",
              "      <th>Volume</th>\n",
              "      <th>Adj Close</th>\n",
              "      <th>1 day before Open</th>\n",
              "      <th>1 day before High</th>\n",
              "      <th>1 day before Low</th>\n",
              "      <th>1 day before Close</th>\n",
              "      <th>1 day before Volume</th>\n",
              "      <th>1 day before Adj Close</th>\n",
              "      <th>2 day before Open</th>\n",
              "      <th>2 day before High</th>\n",
              "      <th>2 day before Low</th>\n",
              "      <th>2 day before Close</th>\n",
              "      <th>2 day before Volume</th>\n",
              "      <th>2 day before Adj Close</th>\n",
              "      <th>3 day before Open</th>\n",
              "      <th>3 day before High</th>\n",
              "      <th>3 day before Low</th>\n",
              "      <th>3 day before Close</th>\n",
              "      <th>3 day before Volume</th>\n",
              "      <th>3 day before Adj Close</th>\n",
              "      <th>4 day before Open</th>\n",
              "      <th>4 day before High</th>\n",
              "      <th>4 day before Low</th>\n",
              "      <th>4 day before Close</th>\n",
              "      <th>4 day before Volume</th>\n",
              "      <th>4 day before Adj Close</th>\n",
              "      <th>5 day before Open</th>\n",
              "      <th>5 day before High</th>\n",
              "      <th>5 day before Low</th>\n",
              "      <th>5 day before Close</th>\n",
              "      <th>5 day before Volume</th>\n",
              "      <th>5 day before Adj Close</th>\n",
              "      <th>6 day before Open</th>\n",
              "      <th>6 day before High</th>\n",
              "      <th>6 day before Low</th>\n",
              "      <th>...</th>\n",
              "      <th>57 day before Close</th>\n",
              "      <th>57 day before Volume</th>\n",
              "      <th>57 day before Adj Close</th>\n",
              "      <th>58 day before Open</th>\n",
              "      <th>58 day before High</th>\n",
              "      <th>58 day before Low</th>\n",
              "      <th>58 day before Close</th>\n",
              "      <th>58 day before Volume</th>\n",
              "      <th>58 day before Adj Close</th>\n",
              "      <th>59 day before Open</th>\n",
              "      <th>59 day before High</th>\n",
              "      <th>59 day before Low</th>\n",
              "      <th>59 day before Close</th>\n",
              "      <th>59 day before Volume</th>\n",
              "      <th>59 day before Adj Close</th>\n",
              "      <th>Top1</th>\n",
              "      <th>Top2</th>\n",
              "      <th>Top3</th>\n",
              "      <th>Top4</th>\n",
              "      <th>Top5</th>\n",
              "      <th>Top6</th>\n",
              "      <th>Top7</th>\n",
              "      <th>Top8</th>\n",
              "      <th>Top9</th>\n",
              "      <th>Top10</th>\n",
              "      <th>Top11</th>\n",
              "      <th>Top12</th>\n",
              "      <th>Top13</th>\n",
              "      <th>Top14</th>\n",
              "      <th>Top15</th>\n",
              "      <th>Top16</th>\n",
              "      <th>Top17</th>\n",
              "      <th>Top18</th>\n",
              "      <th>Top19</th>\n",
              "      <th>Top20</th>\n",
              "      <th>Top21</th>\n",
              "      <th>Top22</th>\n",
              "      <th>Top23</th>\n",
              "      <th>Top24</th>\n",
              "      <th>Top25</th>\n",
              "    </tr>\n",
              "  </thead>\n",
              "  <tbody>\n",
              "    <tr>\n",
              "      <th>0</th>\n",
              "      <td>2016-07-01</td>\n",
              "      <td>0.933579</td>\n",
              "      <td>0.940047</td>\n",
              "      <td>0.939734</td>\n",
              "      <td>0.938290</td>\n",
              "      <td>-0.778698</td>\n",
              "      <td>0.938290</td>\n",
              "      <td>0.897638</td>\n",
              "      <td>0.927717</td>\n",
              "      <td>0.904977</td>\n",
              "      <td>0.934995</td>\n",
              "      <td>-0.626052</td>\n",
              "      <td>0.934995</td>\n",
              "      <td>0.854005</td>\n",
              "      <td>0.888874</td>\n",
              "      <td>0.861634</td>\n",
              "      <td>0.894995</td>\n",
              "      <td>-0.706021</td>\n",
              "      <td>0.894995</td>\n",
              "      <td>0.808881</td>\n",
              "      <td>0.838231</td>\n",
              "      <td>0.816642</td>\n",
              "      <td>0.846554</td>\n",
              "      <td>-0.688587</td>\n",
              "      <td>0.846554</td>\n",
              "      <td>0.836872</td>\n",
              "      <td>0.828866</td>\n",
              "      <td>0.795049</td>\n",
              "      <td>0.800745</td>\n",
              "      <td>-0.608918</td>\n",
              "      <td>0.800745</td>\n",
              "      <td>0.937385</td>\n",
              "      <td>0.930469</td>\n",
              "      <td>0.844743</td>\n",
              "      <td>0.845029</td>\n",
              "      <td>-0.308067</td>\n",
              "      <td>0.845029</td>\n",
              "      <td>0.919961</td>\n",
              "      <td>0.94154</td>\n",
              "      <td>0.927397</td>\n",
              "      <td>...</td>\n",
              "      <td>0.899512</td>\n",
              "      <td>-0.782119</td>\n",
              "      <td>0.899512</td>\n",
              "      <td>0.876177</td>\n",
              "      <td>0.893533</td>\n",
              "      <td>0.878559</td>\n",
              "      <td>0.87149</td>\n",
              "      <td>-0.70386</td>\n",
              "      <td>0.87149</td>\n",
              "      <td>0.870893</td>\n",
              "      <td>0.887156</td>\n",
              "      <td>0.873858</td>\n",
              "      <td>0.874984</td>\n",
              "      <td>-0.78521</td>\n",
              "      <td>0.874984</td>\n",
              "      <td>A 117-year-old woman in Mexico City finally re...</td>\n",
              "      <td>IMF chief backs Athens as permanent Olympic host</td>\n",
              "      <td>The president of France says if Brexit won, so...</td>\n",
              "      <td>British Man Who Must Give Police 24 Hours' Not...</td>\n",
              "      <td>100+ Nobel laureates urge Greenpeace to stop o...</td>\n",
              "      <td>Brazil: Huge spike in number of police killing...</td>\n",
              "      <td>Austria's highest court annuls presidential el...</td>\n",
              "      <td>Facebook wins privacy case, can track any Belg...</td>\n",
              "      <td>Switzerland denies Muslim girls citizenship af...</td>\n",
              "      <td>China kills millions of innocent meditators fo...</td>\n",
              "      <td>France Cracks Down on Factory Farms - A viral ...</td>\n",
              "      <td>Abbas PLO Faction Calls Killer of 13-Year-Old ...</td>\n",
              "      <td>Taiwanese warship accidentally fires missile t...</td>\n",
              "      <td>Iran celebrates American Human Rights Week, mo...</td>\n",
              "      <td>U.N. panel moves to curb bias against L.G.B.T....</td>\n",
              "      <td>The United States has placed Myanmar, Uzbekist...</td>\n",
              "      <td>S&amp;amp;P revises European Union credit rating t...</td>\n",
              "      <td>India gets $1 billion loan from World Bank for...</td>\n",
              "      <td>U.S. sailors detained by Iran spoke too much u...</td>\n",
              "      <td>Mass fish kill in Vietnam solved as Taiwan ste...</td>\n",
              "      <td>Philippines president Rodrigo Duterte urges pe...</td>\n",
              "      <td>Spain arrests three Pakistanis accused of prom...</td>\n",
              "      <td>Venezuela, where anger over food shortages is ...</td>\n",
              "      <td>A Hindu temple worker has been killed by three...</td>\n",
              "      <td>Ozone layer hole seems to be healing - US &amp;amp...</td>\n",
              "    </tr>\n",
              "    <tr>\n",
              "      <th>1</th>\n",
              "      <td>2016-06-30</td>\n",
              "      <td>0.897638</td>\n",
              "      <td>0.927717</td>\n",
              "      <td>0.904977</td>\n",
              "      <td>0.934995</td>\n",
              "      <td>-0.626052</td>\n",
              "      <td>0.934995</td>\n",
              "      <td>0.854005</td>\n",
              "      <td>0.888874</td>\n",
              "      <td>0.861634</td>\n",
              "      <td>0.894995</td>\n",
              "      <td>-0.706021</td>\n",
              "      <td>0.894995</td>\n",
              "      <td>0.808881</td>\n",
              "      <td>0.838231</td>\n",
              "      <td>0.816642</td>\n",
              "      <td>0.846554</td>\n",
              "      <td>-0.688587</td>\n",
              "      <td>0.846554</td>\n",
              "      <td>0.836872</td>\n",
              "      <td>0.828866</td>\n",
              "      <td>0.795049</td>\n",
              "      <td>0.800745</td>\n",
              "      <td>-0.608918</td>\n",
              "      <td>0.800745</td>\n",
              "      <td>0.937385</td>\n",
              "      <td>0.930469</td>\n",
              "      <td>0.844743</td>\n",
              "      <td>0.845029</td>\n",
              "      <td>-0.308067</td>\n",
              "      <td>0.845029</td>\n",
              "      <td>0.919961</td>\n",
              "      <td>0.94154</td>\n",
              "      <td>0.927397</td>\n",
              "      <td>0.948778</td>\n",
              "      <td>-0.730957</td>\n",
              "      <td>0.948778</td>\n",
              "      <td>0.918017</td>\n",
              "      <td>0.925922</td>\n",
              "      <td>0.9149</td>\n",
              "      <td>...</td>\n",
              "      <td>0.87149</td>\n",
              "      <td>-0.70386</td>\n",
              "      <td>0.87149</td>\n",
              "      <td>0.870893</td>\n",
              "      <td>0.887156</td>\n",
              "      <td>0.873858</td>\n",
              "      <td>0.874984</td>\n",
              "      <td>-0.78521</td>\n",
              "      <td>0.874984</td>\n",
              "      <td>0.893308</td>\n",
              "      <td>0.885914</td>\n",
              "      <td>0.866414</td>\n",
              "      <td>0.869034</td>\n",
              "      <td>-0.754812</td>\n",
              "      <td>0.869034</td>\n",
              "      <td>Jamaica proposes marijuana dispensers for tour...</td>\n",
              "      <td>Stephen Hawking says pollution and 'stupidity'...</td>\n",
              "      <td>Boris Johnson says he will not run for Tory pa...</td>\n",
              "      <td>Six gay men in Ivory Coast were abused and for...</td>\n",
              "      <td>Switzerland denies citizenship to Muslim immig...</td>\n",
              "      <td>Palestinian terrorist stabs israeli teen girl ...</td>\n",
              "      <td>Puerto Rico will default on $1 billion of debt...</td>\n",
              "      <td>Republic of Ireland fans to be awarded medal f...</td>\n",
              "      <td>Afghan suicide bomber 'kills up to 40' - BBC News</td>\n",
              "      <td>US airstrikes kill at least 250 ISIS fighters ...</td>\n",
              "      <td>Turkish Cop Who Took Down Istanbul Gunman Hail...</td>\n",
              "      <td>Cannabis compounds could treat Alzheimer's by ...</td>\n",
              "      <td>Japan's top court has approved blanket surveil...</td>\n",
              "      <td>CIA Gave Romania Millions to Host Secret Prisons</td>\n",
              "      <td>Groups urge U.N. to suspend Saudi Arabia from ...</td>\n",
              "      <td>Googles free wifi at Indian railway stations i...</td>\n",
              "      <td>Mounting evidence suggests 'hobbits' were wipe...</td>\n",
              "      <td>The men who carried out Tuesday's terror attac...</td>\n",
              "      <td>Calls to suspend Saudi Arabia from UN Human Ri...</td>\n",
              "      <td>More Than 100 Nobel Laureates Call Out Greenpe...</td>\n",
              "      <td>British pedophile sentenced to 85 years in US ...</td>\n",
              "      <td>US permitted 1,200 offshore fracks in Gulf of ...</td>\n",
              "      <td>We will be swimming in ridicule - French beach...</td>\n",
              "      <td>UEFA says no minutes of silence for Istanbul v...</td>\n",
              "      <td>Law Enforcement Sources: Gun Used in Paris Ter...</td>\n",
              "    </tr>\n",
              "  </tbody>\n",
              "</table>\n",
              "<p>2 rows × 386 columns</p>\n",
              "</div>"
            ],
            "text/plain": [
              "         Date  ...                                              Top25\n",
              "0  2016-07-01  ...  Ozone layer hole seems to be healing - US &amp...\n",
              "1  2016-06-30  ...  Law Enforcement Sources: Gun Used in Paris Ter...\n",
              "\n",
              "[2 rows x 386 columns]"
            ]
          },
          "metadata": {
            "tags": []
          },
          "execution_count": 5
        }
      ]
    },
    {
      "cell_type": "markdown",
      "metadata": {
        "id": "4Y4AOOudKEbw"
      },
      "source": [
        "# In the 2 cells below we importing the libary nltk that we convert the news to numerical value between 1 to -1 according to how much is good or bad."
      ]
    },
    {
      "cell_type": "code",
      "metadata": {
        "colab": {
          "base_uri": "https://localhost:8080/"
        },
        "id": "5PPyrouheS8-",
        "outputId": "28002cf1-dd3c-4fd3-cbb8-6648baf4b7d8"
      },
      "source": [
        "import nltk\n",
        "nltk.download('vader_lexicon')\n",
        "from nltk.sentiment.vader import SentimentIntensityAnalyzer\n",
        "sna = SentimentIntensityAnalyzer()"
      ],
      "execution_count": 6,
      "outputs": [
        {
          "output_type": "stream",
          "text": [
            "[nltk_data] Downloading package vader_lexicon to /root/nltk_data...\n"
          ],
          "name": "stdout"
        },
        {
          "output_type": "stream",
          "text": [
            "/usr/local/lib/python3.6/dist-packages/nltk/twitter/__init__.py:20: UserWarning: The twython library has not been installed. Some functionality from the twitter package will not be available.\n",
            "  warnings.warn(\"The twython library has not been installed. \"\n"
          ],
          "name": "stderr"
        }
      ]
    },
    {
      "cell_type": "code",
      "metadata": {
        "colab": {
          "base_uri": "https://localhost:8080/"
        },
        "id": "KgTom4oVeTCb",
        "outputId": "6d1ceddd-1cc9-44f7-8036-1e4f1f2ff576"
      },
      "source": [
        "df_Combined2 = df_Combined.copy()\n",
        "for i in range(0, df_Combined2.shape[0]):\n",
        "  News_Date_array = df_RedditNews[df_RedditNews[\"Date\"] == df_Combined2[\"Date\"][i]][\"News\"].to_numpy()\n",
        "\n",
        "  for j in range(0, 25):\n",
        "    df_Combined2[\"Top\"+str(j+1)][i] = sna.polarity_scores(df_Combined2[\"Top\"+str(j+1)][i])[\"compound\"]\n",
        "    "
      ],
      "execution_count": 7,
      "outputs": [
        {
          "output_type": "stream",
          "text": [
            "/usr/local/lib/python3.6/dist-packages/ipykernel_launcher.py:6: SettingWithCopyWarning: \n",
            "A value is trying to be set on a copy of a slice from a DataFrame\n",
            "\n",
            "See the caveats in the documentation: https://pandas.pydata.org/pandas-docs/stable/user_guide/indexing.html#returning-a-view-versus-a-copy\n",
            "  \n"
          ],
          "name": "stderr"
        }
      ]
    },
    {
      "cell_type": "markdown",
      "metadata": {
        "id": "QQpHpkCMLcRb"
      },
      "source": [
        "# In the cell below we divide the data to training, testing, x and y. for the learning processes\r\n",
        "\r\n"
      ]
    },
    {
      "cell_type": "code",
      "metadata": {
        "id": "x_nos3er2mkS"
      },
      "source": [
        "df_final = df_Combined2.drop(['Date', 'High', 'Low', 'Volume', 'Adj Close'], axis=1)\n",
        "X_df = df_final.drop(['Close'], axis=1)\n",
        "Y_df = df_final['Close']\n",
        "rowsSize = X_df.shape[0]\n",
        "test_size = 0.2\n",
        "train_rowsSize = rowsSize*(1-test_size)\n",
        "test_rowsSize = rowsSize*test_size\n",
        "x_train, x_test, y_train, y_test = (X_df.tail(int(train_rowsSize)), X_df.head(int(test_rowsSize)), Y_df.tail(int(train_rowsSize)), Y_df.head(int(test_rowsSize)))\n",
        "data_x_train = x_train.copy()\n",
        "data_y_train = np.array(y_train.copy(), ndmin=2).reshape((y_train.shape[0], 1))\n",
        "data_x_test = x_test.copy()\n",
        "data_y_test = np.array(y_test.copy(), ndmin=2).reshape((y_test.shape[0], 1))\n",
        "data_test_dates = df_Combined2['Date'].head(int(test_rowsSize))"
      ],
      "execution_count": 9,
      "outputs": []
    },
    {
      "cell_type": "markdown",
      "metadata": {
        "id": "pvw8LWYxQWNN"
      },
      "source": [
        "# In the cell below we importing the librarys of creating ours models, visualize ours results and displaying the time it took to train the models."
      ]
    },
    {
      "cell_type": "code",
      "metadata": {
        "id": "DQffrPhz3ZRU",
        "colab": {
          "base_uri": "https://localhost:8080/"
        },
        "outputId": "1200e97f-ff8e-407a-d964-abb3a6165915"
      },
      "source": [
        "import tensorflow.compat.v1 as tf\n",
        "tf.disable_v2_behavior()  \n",
        "import matplotlib.pyplot as plt\n",
        "%matplotlib inline\n",
        "import time"
      ],
      "execution_count": 10,
      "outputs": [
        {
          "output_type": "stream",
          "text": [
            "WARNING:tensorflow:From /usr/local/lib/python3.6/dist-packages/tensorflow/python/compat/v2_compat.py:96: disable_resource_variables (from tensorflow.python.ops.variable_scope) is deprecated and will be removed in a future version.\n",
            "Instructions for updating:\n",
            "non-resource variables are not supported in the long term\n"
          ],
          "name": "stdout"
        }
      ]
    },
    {
      "cell_type": "markdown",
      "metadata": {
        "id": "MQSWyNGAS3le"
      },
      "source": [
        "# In the cells below we:\r\n",
        "# 1) prepering our linear-regresion model\r\n",
        "# 2) training our linear-regresion model\r\n",
        "# 3) displaying the mean squared error progress graph\r\n",
        "# 4) displaying the results of our linear-regresion model with the real testing values."
      ]
    },
    {
      "cell_type": "code",
      "metadata": {
        "id": "ogkI0cqtbTwV"
      },
      "source": [
        "start_time = time.time()\n",
        "features = x_train.shape[1]\n",
        "x = tf.placeholder(tf.float32, [None, features])\n",
        "y_ = tf.placeholder(tf.float32, [None, 1])\n",
        "W = tf.Variable(tf.zeros([features,1]))\n",
        "b = tf.Variable(tf.zeros([1]))\n",
        "y = tf.matmul(x,W) + b\n",
        "loss = tf.reduce_mean(tf.pow(y - y_, 2))\n",
        "update = tf.train.GradientDescentOptimizer(0.0001).minimize(loss)\n",
        "sess = tf.Session()\n",
        "sess.run(tf.global_variables_initializer())"
      ],
      "execution_count": 11,
      "outputs": []
    },
    {
      "cell_type": "code",
      "metadata": {
        "colab": {
          "base_uri": "https://localhost:8080/"
        },
        "id": "BS2V83Y9bTy3",
        "outputId": "c4736116-2947-4954-a03c-cbade60e2325"
      },
      "source": [
        "train_losses = []\n",
        "test_losses = []\n",
        "temp_loss = sess.run(loss, feed_dict = {x: data_x_test, y_: data_y_test})\n",
        "i = 0\n",
        "print('iter:', i,', loss:', temp_loss)\n",
        "while(True):\n",
        "    sess.run(update, feed_dict = {x:data_x_train, y_:data_y_train})\n",
        "    i += 1\n",
        "    temp_loss = sess.run(loss, feed_dict = {x: data_x_train, y_: data_y_train})\n",
        "    train_losses.append(temp_loss)\n",
        "    temp_loss = sess.run(loss, feed_dict = {x: data_x_test, y_: data_y_test})\n",
        "    test_losses.append(temp_loss)\n",
        "    print('iter:', i,', loss:', temp_loss)\n",
        "    if (i > 5):\n",
        "      if (test_losses[-2] - test_losses[-1] < 0):\n",
        "        break\n",
        "print(\"get to model :linear regrression training :' %s seconds \" % (time.time() - start_time))"
      ],
      "execution_count": 12,
      "outputs": [
        {
          "output_type": "stream",
          "text": [
            "iter: 0 , loss: 0.7480454\n",
            "iter: 1 , loss: 0.72877836\n",
            "iter: 2 , loss: 0.7100045\n",
            "iter: 3 , loss: 0.6917115\n",
            "iter: 4 , loss: 0.67388713\n",
            "iter: 5 , loss: 0.65651923\n",
            "iter: 6 , loss: 0.6395967\n",
            "iter: 7 , loss: 0.623108\n",
            "iter: 8 , loss: 0.60704213\n",
            "iter: 9 , loss: 0.5913884\n",
            "iter: 10 , loss: 0.5761364\n",
            "iter: 11 , loss: 0.56127596\n",
            "iter: 12 , loss: 0.5467971\n",
            "iter: 13 , loss: 0.5326901\n",
            "iter: 14 , loss: 0.51894563\n",
            "iter: 15 , loss: 0.5055544\n",
            "iter: 16 , loss: 0.4925075\n",
            "iter: 17 , loss: 0.47979623\n",
            "iter: 18 , loss: 0.46741197\n",
            "iter: 19 , loss: 0.45534647\n",
            "iter: 20 , loss: 0.44359162\n",
            "iter: 21 , loss: 0.4321395\n",
            "iter: 22 , loss: 0.42098257\n",
            "iter: 23 , loss: 0.4101131\n",
            "iter: 24 , loss: 0.39952394\n",
            "iter: 25 , loss: 0.38920796\n",
            "iter: 26 , loss: 0.37915817\n",
            "iter: 27 , loss: 0.3693678\n",
            "iter: 28 , loss: 0.35983026\n",
            "iter: 29 , loss: 0.35053915\n",
            "iter: 30 , loss: 0.34148818\n",
            "iter: 31 , loss: 0.3326712\n",
            "iter: 32 , loss: 0.32408231\n",
            "iter: 33 , loss: 0.3157157\n",
            "iter: 34 , loss: 0.30756566\n",
            "iter: 35 , loss: 0.2996267\n",
            "iter: 36 , loss: 0.29189348\n",
            "iter: 37 , loss: 0.2843607\n",
            "iter: 38 , loss: 0.27702326\n",
            "iter: 39 , loss: 0.26987624\n",
            "iter: 40 , loss: 0.2629147\n",
            "iter: 41 , loss: 0.25613394\n",
            "iter: 42 , loss: 0.24952939\n",
            "iter: 43 , loss: 0.24309653\n",
            "iter: 44 , loss: 0.23683092\n",
            "iter: 45 , loss: 0.23072837\n",
            "iter: 46 , loss: 0.22478466\n",
            "iter: 47 , loss: 0.2189958\n",
            "iter: 48 , loss: 0.21335776\n",
            "iter: 49 , loss: 0.20786673\n",
            "iter: 50 , loss: 0.20251893\n",
            "iter: 51 , loss: 0.19731069\n",
            "iter: 52 , loss: 0.19223848\n",
            "iter: 53 , loss: 0.18729877\n",
            "iter: 54 , loss: 0.18248823\n",
            "iter: 55 , loss: 0.1778035\n",
            "iter: 56 , loss: 0.17324139\n",
            "iter: 57 , loss: 0.16879873\n",
            "iter: 58 , loss: 0.16447246\n",
            "iter: 59 , loss: 0.16025965\n",
            "iter: 60 , loss: 0.15615734\n",
            "iter: 61 , loss: 0.15216272\n",
            "iter: 62 , loss: 0.148273\n",
            "iter: 63 , loss: 0.14448552\n",
            "iter: 64 , loss: 0.14079764\n",
            "iter: 65 , loss: 0.13720682\n",
            "iter: 66 , loss: 0.13371052\n",
            "iter: 67 , loss: 0.13030636\n",
            "iter: 68 , loss: 0.12699197\n",
            "iter: 69 , loss: 0.12376503\n",
            "iter: 70 , loss: 0.120623305\n",
            "iter: 71 , loss: 0.117564544\n",
            "iter: 72 , loss: 0.11458669\n",
            "iter: 73 , loss: 0.111687616\n",
            "iter: 74 , loss: 0.10886528\n",
            "iter: 75 , loss: 0.106117755\n",
            "iter: 76 , loss: 0.103443086\n",
            "iter: 77 , loss: 0.10083938\n",
            "iter: 78 , loss: 0.098304816\n",
            "iter: 79 , loss: 0.09583764\n",
            "iter: 80 , loss: 0.093436055\n",
            "iter: 81 , loss: 0.09109843\n",
            "iter: 82 , loss: 0.08882309\n",
            "iter: 83 , loss: 0.086608395\n",
            "iter: 84 , loss: 0.084452815\n",
            "iter: 85 , loss: 0.082354784\n",
            "iter: 86 , loss: 0.080312856\n",
            "iter: 87 , loss: 0.07832554\n",
            "iter: 88 , loss: 0.07639144\n",
            "iter: 89 , loss: 0.07450922\n",
            "iter: 90 , loss: 0.07267744\n",
            "iter: 91 , loss: 0.07089488\n",
            "iter: 92 , loss: 0.06916021\n",
            "iter: 93 , loss: 0.06747219\n",
            "iter: 94 , loss: 0.065829664\n",
            "iter: 95 , loss: 0.064231366\n",
            "iter: 96 , loss: 0.06267621\n",
            "iter: 97 , loss: 0.061163068\n",
            "iter: 98 , loss: 0.059690822\n",
            "iter: 99 , loss: 0.058258403\n",
            "iter: 100 , loss: 0.056864798\n",
            "iter: 101 , loss: 0.055509012\n",
            "iter: 102 , loss: 0.054190025\n",
            "iter: 103 , loss: 0.052906863\n",
            "iter: 104 , loss: 0.051658634\n",
            "iter: 105 , loss: 0.050444394\n",
            "iter: 106 , loss: 0.04926326\n",
            "iter: 107 , loss: 0.048114393\n",
            "iter: 108 , loss: 0.046996918\n",
            "iter: 109 , loss: 0.045910046\n",
            "iter: 110 , loss: 0.044852935\n",
            "iter: 111 , loss: 0.04382482\n",
            "iter: 112 , loss: 0.04282496\n",
            "iter: 113 , loss: 0.041852593\n",
            "iter: 114 , loss: 0.04090702\n",
            "iter: 115 , loss: 0.039987516\n",
            "iter: 116 , loss: 0.039093394\n",
            "iter: 117 , loss: 0.03822399\n",
            "iter: 118 , loss: 0.037378665\n",
            "iter: 119 , loss: 0.036556777\n",
            "iter: 120 , loss: 0.0357577\n",
            "iter: 121 , loss: 0.03498086\n",
            "iter: 122 , loss: 0.034225643\n",
            "iter: 123 , loss: 0.0334915\n",
            "iter: 124 , loss: 0.03277784\n",
            "iter: 125 , loss: 0.032084152\n",
            "iter: 126 , loss: 0.031409897\n",
            "iter: 127 , loss: 0.030754574\n",
            "iter: 128 , loss: 0.030117648\n",
            "iter: 129 , loss: 0.029498661\n",
            "iter: 130 , loss: 0.028897148\n",
            "iter: 131 , loss: 0.028312605\n",
            "iter: 132 , loss: 0.02774461\n",
            "iter: 133 , loss: 0.027192708\n",
            "iter: 134 , loss: 0.026656482\n",
            "iter: 135 , loss: 0.026135495\n",
            "iter: 136 , loss: 0.025629371\n",
            "iter: 137 , loss: 0.025137698\n",
            "iter: 138 , loss: 0.02466008\n",
            "iter: 139 , loss: 0.024196154\n",
            "iter: 140 , loss: 0.023745554\n",
            "iter: 141 , loss: 0.023307906\n",
            "iter: 142 , loss: 0.022882888\n",
            "iter: 143 , loss: 0.022470146\n",
            "iter: 144 , loss: 0.022069363\n",
            "iter: 145 , loss: 0.021680191\n",
            "iter: 146 , loss: 0.021302352\n",
            "iter: 147 , loss: 0.020935515\n",
            "iter: 148 , loss: 0.020579392\n",
            "iter: 149 , loss: 0.02023369\n",
            "iter: 150 , loss: 0.019898133\n",
            "iter: 151 , loss: 0.019572454\n",
            "iter: 152 , loss: 0.019256357\n",
            "iter: 153 , loss: 0.01894962\n",
            "iter: 154 , loss: 0.018651964\n",
            "iter: 155 , loss: 0.018363148\n",
            "iter: 156 , loss: 0.018082932\n",
            "iter: 157 , loss: 0.017811095\n",
            "iter: 158 , loss: 0.017547378\n",
            "iter: 159 , loss: 0.01729159\n",
            "iter: 160 , loss: 0.017043494\n",
            "iter: 161 , loss: 0.016802894\n",
            "iter: 162 , loss: 0.016569579\n",
            "iter: 163 , loss: 0.016343348\n",
            "iter: 164 , loss: 0.016124016\n",
            "iter: 165 , loss: 0.015911372\n",
            "iter: 166 , loss: 0.015705246\n",
            "iter: 167 , loss: 0.015505466\n",
            "iter: 168 , loss: 0.015311847\n",
            "iter: 169 , loss: 0.015124212\n",
            "iter: 170 , loss: 0.014942408\n",
            "iter: 171 , loss: 0.014766269\n",
            "iter: 172 , loss: 0.014595637\n",
            "iter: 173 , loss: 0.01443036\n",
            "iter: 174 , loss: 0.014270294\n",
            "iter: 175 , loss: 0.014115281\n",
            "iter: 176 , loss: 0.013965189\n",
            "iter: 177 , loss: 0.013819884\n",
            "iter: 178 , loss: 0.013679217\n",
            "iter: 179 , loss: 0.013543073\n",
            "iter: 180 , loss: 0.013411315\n",
            "iter: 181 , loss: 0.013283831\n",
            "iter: 182 , loss: 0.013160493\n",
            "iter: 183 , loss: 0.013041183\n",
            "iter: 184 , loss: 0.012925781\n",
            "iter: 185 , loss: 0.012814192\n",
            "iter: 186 , loss: 0.012706299\n",
            "iter: 187 , loss: 0.012601995\n",
            "iter: 188 , loss: 0.0125011895\n",
            "iter: 189 , loss: 0.012403766\n",
            "iter: 190 , loss: 0.012309634\n",
            "iter: 191 , loss: 0.012218703\n",
            "iter: 192 , loss: 0.012130873\n",
            "iter: 193 , loss: 0.012046072\n",
            "iter: 194 , loss: 0.011964189\n",
            "iter: 195 , loss: 0.011885155\n",
            "iter: 196 , loss: 0.01180889\n",
            "iter: 197 , loss: 0.0117353005\n",
            "iter: 198 , loss: 0.0116643235\n",
            "iter: 199 , loss: 0.0115958685\n",
            "iter: 200 , loss: 0.011529872\n",
            "iter: 201 , loss: 0.0114662545\n",
            "iter: 202 , loss: 0.011404957\n",
            "iter: 203 , loss: 0.011345898\n",
            "iter: 204 , loss: 0.011289025\n",
            "iter: 205 , loss: 0.011234258\n",
            "iter: 206 , loss: 0.011181551\n",
            "iter: 207 , loss: 0.011130832\n",
            "iter: 208 , loss: 0.011082041\n",
            "iter: 209 , loss: 0.011035129\n",
            "iter: 210 , loss: 0.010990034\n",
            "iter: 211 , loss: 0.0109466985\n",
            "iter: 212 , loss: 0.010905077\n",
            "iter: 213 , loss: 0.010865109\n",
            "iter: 214 , loss: 0.010826752\n",
            "iter: 215 , loss: 0.010789957\n",
            "iter: 216 , loss: 0.010754667\n",
            "iter: 217 , loss: 0.010720846\n",
            "iter: 218 , loss: 0.010688445\n",
            "iter: 219 , loss: 0.01065742\n",
            "iter: 220 , loss: 0.010627729\n",
            "iter: 221 , loss: 0.010599332\n",
            "iter: 222 , loss: 0.010572184\n",
            "iter: 223 , loss: 0.010546252\n",
            "iter: 224 , loss: 0.010521491\n",
            "iter: 225 , loss: 0.010497874\n",
            "iter: 226 , loss: 0.010475355\n",
            "iter: 227 , loss: 0.010453905\n",
            "iter: 228 , loss: 0.010433488\n",
            "iter: 229 , loss: 0.010414071\n",
            "iter: 230 , loss: 0.010395621\n",
            "iter: 231 , loss: 0.010378111\n",
            "iter: 232 , loss: 0.010361504\n",
            "iter: 233 , loss: 0.010345778\n",
            "iter: 234 , loss: 0.010330898\n",
            "iter: 235 , loss: 0.010316838\n",
            "iter: 236 , loss: 0.010303574\n",
            "iter: 237 , loss: 0.010291074\n",
            "iter: 238 , loss: 0.010279317\n",
            "iter: 239 , loss: 0.010268277\n",
            "iter: 240 , loss: 0.010257929\n",
            "iter: 241 , loss: 0.010248252\n",
            "iter: 242 , loss: 0.01023922\n",
            "iter: 243 , loss: 0.010230813\n",
            "iter: 244 , loss: 0.010223011\n",
            "iter: 245 , loss: 0.010215786\n",
            "iter: 246 , loss: 0.0102091255\n",
            "iter: 247 , loss: 0.010203006\n",
            "iter: 248 , loss: 0.010197409\n",
            "iter: 249 , loss: 0.010192317\n",
            "iter: 250 , loss: 0.0101877125\n",
            "iter: 251 , loss: 0.010183575\n",
            "iter: 252 , loss: 0.01017989\n",
            "iter: 253 , loss: 0.01017664\n",
            "iter: 254 , loss: 0.010173809\n",
            "iter: 255 , loss: 0.010171382\n",
            "iter: 256 , loss: 0.010169343\n",
            "iter: 257 , loss: 0.010167679\n",
            "iter: 258 , loss: 0.010166375\n",
            "iter: 259 , loss: 0.010165416\n",
            "iter: 260 , loss: 0.010164789\n",
            "iter: 261 , loss: 0.010164482\n",
            "iter: 262 , loss: 0.010164482\n",
            "iter: 263 , loss: 0.010164776\n",
            "get to model :linear regrression training :' 38.890536069869995 seconds \n"
          ],
          "name": "stdout"
        }
      ]
    },
    {
      "cell_type": "code",
      "metadata": {
        "colab": {
          "base_uri": "https://localhost:8080/",
          "height": 295
        },
        "id": "4tSr4Qj6vNyG",
        "outputId": "fb484783-7e14-454b-8918-c1dd7aa6964a"
      },
      "source": [
        "iter = np.arange(1,len(test_losses)+1)\n",
        "plt.title('Linear Regresion Mean Squerd Error minimization')\n",
        "plt.plot(iter, test_losses, label='Testing loss')\n",
        "plt.plot(iter, train_losses, label='Training loss')\n",
        "plt.legend()\n",
        "plt.xlabel('Number of iterations')\n",
        "plt.ylabel('Mean Squerd Error')\n",
        "plt.show()"
      ],
      "execution_count": 13,
      "outputs": [
        {
          "output_type": "display_data",
          "data": {
            "image/png": "[encoded data removed]",
            "text/plain": [
              "<Figure size 432x288 with 1 Axes>"
            ]
          },
          "metadata": {
            "tags": [],
            "needs_background": "light"
          }
        }
      ]
    },
    {
      "cell_type": "code",
      "metadata": {
        "colab": {
          "base_uri": "https://localhost:8080/",
          "height": 295
        },
        "id": "cClVf6nHvN15",
        "outputId": "881cc234-2210-4101-e08e-77620c7bbd3b"
      },
      "source": [
        "predicted_values = sess.run(y, feed_dict = {x: data_x_test})\r\n",
        "plt.title('Comparison true values and predicted values')\r\n",
        "plt.plot(data_test_dates, predicted_values, label='predicted values')\r\n",
        "plt.plot(data_test_dates, data_y_test, label='true values')\r\n",
        "plt.legend()\r\n",
        "plt.xlabel('date')\r\n",
        "plt.ylabel('closeing price')\r\n",
        "plt.show()"
      ],
      "execution_count": 14,
      "outputs": [
        {
          "output_type": "display_data",
          "data": {
            "image/png": "[encoded data removed]",
            "text/plain": [
              "<Figure size 432x288 with 1 Axes>"
            ]
          },
          "metadata": {
            "tags": [],
            "needs_background": "light"
          }
        }
      ]
    },
    {
      "cell_type": "code",
      "metadata": {
        "id": "dat1eNqD38l6"
      },
      "source": [
        " "
      ],
      "execution_count": null,
      "outputs": []
    },
    {
      "cell_type": "code",
      "metadata": {
        "id": "8ZpY7MtYdY0E"
      },
      "source": [
        "start_time = time.time()"
      ],
      "execution_count": 22,
      "outputs": []
    },
    {
      "cell_type": "code",
      "metadata": {
        "id": "Q5vzlppZRKzV"
      },
      "source": [
        "#initialize the weights and run the nuriel network\n",
        "step_size = 0.02\n",
        "(hidden1_size, hidden2_size, hidden3_size, hidden4_size, hidden5_size) = (300, 1, 1, 1, 1 )\n",
        "# (hidden1_size, hidden2_size, hidden3_size, hidden4_size, hidden5_size) = (100, 3, 1, 1, 1 )\n",
        "# (hidden1_size, hidden2_size, hidden3_size, hidden4_size, hidden5_size) = (1228, 1228, 612, 1, 1 )\n",
        "\n",
        "for _ in [1,2]:\n",
        "  minVal=-0.0001\n",
        "  maxVal=0.0001\n",
        "\n",
        "  x = tf.placeholder(tf.float32, shape=[None, x_train.shape[1]])\n",
        "  y_ = tf.placeholder(tf.float32, shape=[None, 1])\n",
        "\n",
        "  W1 = tf.Variable(tf.random.uniform(shape=[x_train.shape[1], hidden1_size], minval=minVal, maxval=maxVal))\n",
        "  b1 = tf.Variable(tf.random.uniform(shape=[hidden1_size], minval=minVal, maxval=maxVal))\n",
        "  z1 = tf.nn.relu(tf.matmul(x,W1)+b1)\n",
        "\n",
        "  W2 = tf.Variable(tf.random.uniform([hidden1_size, hidden2_size], minval=minVal, maxval=maxVal))\n",
        "  b2 = tf.Variable(tf.random.uniform(shape=[hidden2_size], minval=minVal, maxval=maxVal))\n",
        "  # z2 = tf.nn.relu(tf.matmul(z1,W2)+b2)\n",
        "\n",
        "  # W3 = tf.Variable(tf.random.uniform([hidden2_size, hidden3_size], minval=minVal, maxval=maxVal))\n",
        "  # b3 = tf.Variable(tf.random.uniform(shape=[hidden3_size], minval=minVal, maxval=maxVal))\n",
        "  # z3 = tf.nn.relu(tf.matmul(z2,W3)+b3)\n",
        "\n",
        "  # W4 = tf.Variable(tf.random.uniform([hidden3_size, hidden4_size], minval=minVal, maxval=maxVal))\n",
        "  # b4 = tf.Variable(tf.random.uniform(shape=[hidden4_size], minval=minVal, maxval=maxVal))\n",
        "  # z4 = tf.nn.relu(tf.matmul(z3,W4)+b4)\n",
        "\n",
        "  # W5 = tf.Variable(tf.random.uniform([hidden4_size, hidden5_size], minval=minVal, maxval=maxVal))\n",
        "  # b5 = tf.Variable(tf.random.uniform(shape=[hidden5_size], minval=minVal, maxval=maxVal))\n",
        "  # z5 = tf.nn.relu(tf.matmul(z4,W5)+b5)\n",
        "\n",
        "  # W6 = tf.Variable(tf.random.uniform([hidden5_size, 1], minval=minVal, maxval=maxVal))\n",
        "  # b6 = tf.Variable(tf.random.uniform(shape=[1], minval=minVal, maxval=maxVal))\n",
        "\n",
        "  predict = tf.matmul(z1,W2) + b2\n",
        "  # predict = tf.matmul(z2,W3) + b3\n",
        "  # predict = tf.matmul(z3,W4) + b4\n",
        "  # predict = tf.matmul(z4,W5) + b5\n",
        "  # predict = tf.matmul(z5,W6) + b6\n",
        "\n",
        "  loss = tf.reduce_mean(tf.pow(predict - y_, 2))\n",
        "  train_step = tf.train.GradientDescentOptimizer(step_size).minimize(loss)\n",
        "\n",
        "  init = tf.global_variables_initializer()\n",
        "  sess = tf.Session()\n",
        "  train_losses = []\n",
        "  test_losses = []\n",
        "  sess.run(init)"
      ],
      "execution_count": 23,
      "outputs": []
    },
    {
      "cell_type": "code",
      "metadata": {
        "id": "h78yXovxc9VT",
        "colab": {
          "base_uri": "https://localhost:8080/",
          "height": 1000
        },
        "outputId": "3aecc95b-adea-4435-b0e7-4a49b0a9bc6a"
      },
      "source": [
        "i = 0\n",
        "while(True):\n",
        "  for _ in range(10):\n",
        "    for _ in range(10):\n",
        "      sess.run(train_step, feed_dict={x:data_x_train, y_:data_y_train})\n",
        "  \n",
        "    temp_loss = sess.run(loss, feed_dict = {x: data_x_train, y_: data_y_train})\n",
        "    train_losses.append(temp_loss)\n",
        "    temp_loss = sess.run(loss, feed_dict = {x: data_x_test, y_: data_y_test})\n",
        "    test_losses.append(temp_loss)\n",
        "    print('iter:', i+1,', loss:', temp_loss)\n",
        "    i += 1\n",
        "  if(test_losses[-2] - test_losses[-1] <= 0):\n",
        "    break\n",
        "print(\"get to model :nuriel network training :' %s seconds \"  % (time.time() - start_time))"
      ],
      "execution_count": 24,
      "outputs": [
        {
          "output_type": "stream",
          "text": [
            "iter: 2 , loss: 0.73406714\n",
            "iter: 3 , loss: 0.7248305\n",
            "iter: 4 , loss: 0.71808636\n",
            "iter: 5 , loss: 0.7103153\n",
            "iter: 6 , loss: 0.6884213\n",
            "iter: 7 , loss: 0.59797806\n",
            "iter: 8 , loss: 0.32766455\n",
            "iter: 9 , loss: 0.06612128\n",
            "iter: 10 , loss: 0.014485265\n",
            "iter: 11 , loss: 0.010346108\n",
            "iter: 12 , loss: 0.010248962\n",
            "iter: 13 , loss: 0.010275825\n",
            "iter: 14 , loss: 0.010195393\n",
            "iter: 15 , loss: 0.010094312\n",
            "iter: 16 , loss: 0.010006864\n",
            "iter: 17 , loss: 0.009936561\n",
            "iter: 18 , loss: 0.009879418\n",
            "iter: 19 , loss: 0.009831727\n",
            "iter: 20 , loss: 0.009790866\n",
            "iter: 21 , loss: 0.009754859\n",
            "iter: 22 , loss: 0.009722674\n",
            "iter: 23 , loss: 0.009693638\n",
            "iter: 24 , loss: 0.009667166\n",
            "iter: 25 , loss: 0.009643059\n",
            "iter: 26 , loss: 0.009621405\n",
            "iter: 27 , loss: 0.009601489\n",
            "iter: 28 , loss: 0.009583199\n",
            "iter: 29 , loss: 0.00956649\n",
            "iter: 30 , loss: 0.009551132\n",
            "iter: 31 , loss: 0.009537423\n",
            "iter: 32 , loss: 0.009524803\n",
            "iter: 33 , loss: 0.009512661\n",
            "iter: 34 , loss: 0.009501119\n",
            "iter: 35 , loss: 0.009489556\n",
            "iter: 36 , loss: 0.0094773965\n",
            "iter: 37 , loss: 0.009464505\n",
            "iter: 38 , loss: 0.009450844\n",
            "iter: 39 , loss: 0.0094363075\n",
            "iter: 40 , loss: 0.009420897\n",
            "iter: 41 , loss: 0.009404693\n",
            "iter: 42 , loss: 0.009387824\n",
            "iter: 43 , loss: 0.009370214\n",
            "iter: 44 , loss: 0.0093518635\n",
            "iter: 45 , loss: 0.00933259\n",
            "iter: 46 , loss: 0.009312253\n",
            "iter: 47 , loss: 0.009290973\n",
            "iter: 48 , loss: 0.009268924\n",
            "iter: 49 , loss: 0.00924611\n",
            "iter: 50 , loss: 0.009222552\n",
            "iter: 51 , loss: 0.009198248\n",
            "iter: 52 , loss: 0.009173249\n",
            "iter: 53 , loss: 0.0091476105\n",
            "iter: 54 , loss: 0.009121368\n",
            "iter: 55 , loss: 0.009094574\n",
            "iter: 56 , loss: 0.009067242\n",
            "iter: 57 , loss: 0.009039401\n",
            "iter: 58 , loss: 0.00901111\n",
            "iter: 59 , loss: 0.008982428\n",
            "iter: 60 , loss: 0.0089533925\n",
            "iter: 61 , loss: 0.008924021\n",
            "iter: 62 , loss: 0.008894274\n",
            "iter: 63 , loss: 0.008864042\n",
            "iter: 64 , loss: 0.008833525\n",
            "iter: 65 , loss: 0.008802807\n",
            "iter: 66 , loss: 0.008771937\n",
            "iter: 67 , loss: 0.0087409\n",
            "iter: 68 , loss: 0.008709644\n",
            "iter: 69 , loss: 0.008678292\n",
            "iter: 70 , loss: 0.008646915\n",
            "iter: 71 , loss: 0.008615548\n"
          ],
          "name": "stdout"
        },
        {
          "output_type": "error",
          "ename": "KeyboardInterrupt",
          "evalue": "ignored",
          "traceback": [
            "\u001b[0;31m---------------------------------------------------------------------------\u001b[0m",
            "\u001b[0;31mKeyboardInterrupt\u001b[0m                         Traceback (most recent call last)",
            "\u001b[0;32m<ipython-input-24-2088a05ad85d>\u001b[0m in \u001b[0;36m<module>\u001b[0;34m()\u001b[0m\n\u001b[1;32m      3\u001b[0m   \u001b[0;32mfor\u001b[0m \u001b[0m_\u001b[0m \u001b[0;32min\u001b[0m \u001b[0mrange\u001b[0m\u001b[0;34m(\u001b[0m\u001b[0;36m10\u001b[0m\u001b[0;34m)\u001b[0m\u001b[0;34m:\u001b[0m\u001b[0;34m\u001b[0m\u001b[0;34m\u001b[0m\u001b[0m\n\u001b[1;32m      4\u001b[0m     \u001b[0;32mfor\u001b[0m \u001b[0m_\u001b[0m \u001b[0;32min\u001b[0m \u001b[0mrange\u001b[0m\u001b[0;34m(\u001b[0m\u001b[0;36m10\u001b[0m\u001b[0;34m)\u001b[0m\u001b[0;34m:\u001b[0m\u001b[0;34m\u001b[0m\u001b[0;34m\u001b[0m\u001b[0m\n\u001b[0;32m----> 5\u001b[0;31m       \u001b[0msess\u001b[0m\u001b[0;34m.\u001b[0m\u001b[0mrun\u001b[0m\u001b[0;34m(\u001b[0m\u001b[0mtrain_step\u001b[0m\u001b[0;34m,\u001b[0m \u001b[0mfeed_dict\u001b[0m\u001b[0;34m=\u001b[0m\u001b[0;34m{\u001b[0m\u001b[0mx\u001b[0m\u001b[0;34m:\u001b[0m\u001b[0mdata_x_train\u001b[0m\u001b[0;34m,\u001b[0m \u001b[0my_\u001b[0m\u001b[0;34m:\u001b[0m\u001b[0mdata_y_train\u001b[0m\u001b[0;34m}\u001b[0m\u001b[0;34m)\u001b[0m\u001b[0;34m\u001b[0m\u001b[0;34m\u001b[0m\u001b[0m\n\u001b[0m\u001b[1;32m      6\u001b[0m \u001b[0;34m\u001b[0m\u001b[0m\n\u001b[1;32m      7\u001b[0m     \u001b[0mtemp_loss\u001b[0m \u001b[0;34m=\u001b[0m \u001b[0msess\u001b[0m\u001b[0;34m.\u001b[0m\u001b[0mrun\u001b[0m\u001b[0;34m(\u001b[0m\u001b[0mloss\u001b[0m\u001b[0;34m,\u001b[0m \u001b[0mfeed_dict\u001b[0m \u001b[0;34m=\u001b[0m \u001b[0;34m{\u001b[0m\u001b[0mx\u001b[0m\u001b[0;34m:\u001b[0m \u001b[0mdata_x_train\u001b[0m\u001b[0;34m,\u001b[0m \u001b[0my_\u001b[0m\u001b[0;34m:\u001b[0m \u001b[0mdata_y_train\u001b[0m\u001b[0;34m}\u001b[0m\u001b[0;34m)\u001b[0m\u001b[0;34m\u001b[0m\u001b[0;34m\u001b[0m\u001b[0m\n",
            "\u001b[0;32m/usr/local/lib/python3.6/dist-packages/tensorflow/python/client/session.py\u001b[0m in \u001b[0;36mrun\u001b[0;34m(self, fetches, feed_dict, options, run_metadata)\u001b[0m\n\u001b[1;32m    956\u001b[0m     \u001b[0;32mtry\u001b[0m\u001b[0;34m:\u001b[0m\u001b[0;34m\u001b[0m\u001b[0;34m\u001b[0m\u001b[0m\n\u001b[1;32m    957\u001b[0m       result = self._run(None, fetches, feed_dict, options_ptr,\n\u001b[0;32m--> 958\u001b[0;31m                          run_metadata_ptr)\n\u001b[0m\u001b[1;32m    959\u001b[0m       \u001b[0;32mif\u001b[0m \u001b[0mrun_metadata\u001b[0m\u001b[0;34m:\u001b[0m\u001b[0;34m\u001b[0m\u001b[0;34m\u001b[0m\u001b[0m\n\u001b[1;32m    960\u001b[0m         \u001b[0mproto_data\u001b[0m \u001b[0;34m=\u001b[0m \u001b[0mtf_session\u001b[0m\u001b[0;34m.\u001b[0m\u001b[0mTF_GetBuffer\u001b[0m\u001b[0;34m(\u001b[0m\u001b[0mrun_metadata_ptr\u001b[0m\u001b[0;34m)\u001b[0m\u001b[0;34m\u001b[0m\u001b[0;34m\u001b[0m\u001b[0m\n",
            "\u001b[0;32m/usr/local/lib/python3.6/dist-packages/tensorflow/python/client/session.py\u001b[0m in \u001b[0;36m_run\u001b[0;34m(self, handle, fetches, feed_dict, options, run_metadata)\u001b[0m\n\u001b[1;32m   1148\u001b[0m             \u001b[0mfeed_handles\u001b[0m\u001b[0;34m[\u001b[0m\u001b[0msubfeed_t\u001b[0m\u001b[0;34m.\u001b[0m\u001b[0mref\u001b[0m\u001b[0;34m(\u001b[0m\u001b[0;34m)\u001b[0m\u001b[0;34m]\u001b[0m \u001b[0;34m=\u001b[0m \u001b[0msubfeed_val\u001b[0m\u001b[0;34m\u001b[0m\u001b[0;34m\u001b[0m\u001b[0m\n\u001b[1;32m   1149\u001b[0m           \u001b[0;32melse\u001b[0m\u001b[0;34m:\u001b[0m\u001b[0;34m\u001b[0m\u001b[0;34m\u001b[0m\u001b[0m\n\u001b[0;32m-> 1150\u001b[0;31m             \u001b[0mnp_val\u001b[0m \u001b[0;34m=\u001b[0m \u001b[0mnp\u001b[0m\u001b[0;34m.\u001b[0m\u001b[0masarray\u001b[0m\u001b[0;34m(\u001b[0m\u001b[0msubfeed_val\u001b[0m\u001b[0;34m,\u001b[0m \u001b[0mdtype\u001b[0m\u001b[0;34m=\u001b[0m\u001b[0msubfeed_dtype\u001b[0m\u001b[0;34m)\u001b[0m\u001b[0;34m\u001b[0m\u001b[0;34m\u001b[0m\u001b[0m\n\u001b[0m\u001b[1;32m   1151\u001b[0m \u001b[0;34m\u001b[0m\u001b[0m\n\u001b[1;32m   1152\u001b[0m           if (not is_tensor_handle_feed and\n",
            "\u001b[0;32m/usr/local/lib/python3.6/dist-packages/numpy/core/_asarray.py\u001b[0m in \u001b[0;36masarray\u001b[0;34m(a, dtype, order)\u001b[0m\n\u001b[1;32m     83\u001b[0m \u001b[0;34m\u001b[0m\u001b[0m\n\u001b[1;32m     84\u001b[0m     \"\"\"\n\u001b[0;32m---> 85\u001b[0;31m     \u001b[0;32mreturn\u001b[0m \u001b[0marray\u001b[0m\u001b[0;34m(\u001b[0m\u001b[0ma\u001b[0m\u001b[0;34m,\u001b[0m \u001b[0mdtype\u001b[0m\u001b[0;34m,\u001b[0m \u001b[0mcopy\u001b[0m\u001b[0;34m=\u001b[0m\u001b[0;32mFalse\u001b[0m\u001b[0;34m,\u001b[0m \u001b[0morder\u001b[0m\u001b[0;34m=\u001b[0m\u001b[0morder\u001b[0m\u001b[0;34m)\u001b[0m\u001b[0;34m\u001b[0m\u001b[0;34m\u001b[0m\u001b[0m\n\u001b[0m\u001b[1;32m     86\u001b[0m \u001b[0;34m\u001b[0m\u001b[0m\n\u001b[1;32m     87\u001b[0m \u001b[0;34m\u001b[0m\u001b[0m\n",
            "\u001b[0;32m/usr/local/lib/python3.6/dist-packages/pandas/core/generic.py\u001b[0m in \u001b[0;36m__array__\u001b[0;34m(self, dtype)\u001b[0m\n\u001b[1;32m   1779\u001b[0m \u001b[0;34m\u001b[0m\u001b[0m\n\u001b[1;32m   1780\u001b[0m     \u001b[0;32mdef\u001b[0m \u001b[0m__array__\u001b[0m\u001b[0;34m(\u001b[0m\u001b[0mself\u001b[0m\u001b[0;34m,\u001b[0m \u001b[0mdtype\u001b[0m\u001b[0;34m=\u001b[0m\u001b[0;32mNone\u001b[0m\u001b[0;34m)\u001b[0m \u001b[0;34m->\u001b[0m \u001b[0mnp\u001b[0m\u001b[0;34m.\u001b[0m\u001b[0mndarray\u001b[0m\u001b[0;34m:\u001b[0m\u001b[0;34m\u001b[0m\u001b[0;34m\u001b[0m\u001b[0m\n\u001b[0;32m-> 1781\u001b[0;31m         \u001b[0;32mreturn\u001b[0m \u001b[0mnp\u001b[0m\u001b[0;34m.\u001b[0m\u001b[0masarray\u001b[0m\u001b[0;34m(\u001b[0m\u001b[0mself\u001b[0m\u001b[0;34m.\u001b[0m\u001b[0m_values\u001b[0m\u001b[0;34m,\u001b[0m \u001b[0mdtype\u001b[0m\u001b[0;34m=\u001b[0m\u001b[0mdtype\u001b[0m\u001b[0;34m)\u001b[0m\u001b[0;34m\u001b[0m\u001b[0;34m\u001b[0m\u001b[0m\n\u001b[0m\u001b[1;32m   1782\u001b[0m \u001b[0;34m\u001b[0m\u001b[0m\n\u001b[1;32m   1783\u001b[0m     \u001b[0;32mdef\u001b[0m \u001b[0m__array_wrap__\u001b[0m\u001b[0;34m(\u001b[0m\u001b[0mself\u001b[0m\u001b[0;34m,\u001b[0m \u001b[0mresult\u001b[0m\u001b[0;34m,\u001b[0m \u001b[0mcontext\u001b[0m\u001b[0;34m=\u001b[0m\u001b[0;32mNone\u001b[0m\u001b[0;34m)\u001b[0m\u001b[0;34m:\u001b[0m\u001b[0;34m\u001b[0m\u001b[0;34m\u001b[0m\u001b[0m\n",
            "\u001b[0;32m/usr/local/lib/python3.6/dist-packages/pandas/core/generic.py\u001b[0m in \u001b[0;36m_values\u001b[0;34m(self)\u001b[0m\n\u001b[1;32m   5348\u001b[0m     \u001b[0;32mdef\u001b[0m \u001b[0m_values\u001b[0m\u001b[0;34m(\u001b[0m\u001b[0mself\u001b[0m\u001b[0;34m)\u001b[0m \u001b[0;34m->\u001b[0m \u001b[0mnp\u001b[0m\u001b[0;34m.\u001b[0m\u001b[0mndarray\u001b[0m\u001b[0;34m:\u001b[0m\u001b[0;34m\u001b[0m\u001b[0;34m\u001b[0m\u001b[0m\n\u001b[1;32m   5349\u001b[0m         \u001b[0;34m\"\"\"internal implementation\"\"\"\u001b[0m\u001b[0;34m\u001b[0m\u001b[0;34m\u001b[0m\u001b[0m\n\u001b[0;32m-> 5350\u001b[0;31m         \u001b[0;32mreturn\u001b[0m \u001b[0mself\u001b[0m\u001b[0;34m.\u001b[0m\u001b[0mvalues\u001b[0m\u001b[0;34m\u001b[0m\u001b[0;34m\u001b[0m\u001b[0m\n\u001b[0m\u001b[1;32m   5351\u001b[0m \u001b[0;34m\u001b[0m\u001b[0m\n\u001b[1;32m   5352\u001b[0m     \u001b[0;34m@\u001b[0m\u001b[0mproperty\u001b[0m\u001b[0;34m\u001b[0m\u001b[0;34m\u001b[0m\u001b[0m\n",
            "\u001b[0;32m/usr/local/lib/python3.6/dist-packages/pandas/core/generic.py\u001b[0m in \u001b[0;36mvalues\u001b[0;34m(self)\u001b[0m\n\u001b[1;32m   5343\u001b[0m         \"\"\"\n\u001b[1;32m   5344\u001b[0m         \u001b[0mself\u001b[0m\u001b[0;34m.\u001b[0m\u001b[0m_consolidate_inplace\u001b[0m\u001b[0;34m(\u001b[0m\u001b[0;34m)\u001b[0m\u001b[0;34m\u001b[0m\u001b[0;34m\u001b[0m\u001b[0m\n\u001b[0;32m-> 5345\u001b[0;31m         \u001b[0;32mreturn\u001b[0m \u001b[0mself\u001b[0m\u001b[0;34m.\u001b[0m\u001b[0m_mgr\u001b[0m\u001b[0;34m.\u001b[0m\u001b[0mas_array\u001b[0m\u001b[0;34m(\u001b[0m\u001b[0mtranspose\u001b[0m\u001b[0;34m=\u001b[0m\u001b[0mself\u001b[0m\u001b[0;34m.\u001b[0m\u001b[0m_AXIS_REVERSED\u001b[0m\u001b[0;34m)\u001b[0m\u001b[0;34m\u001b[0m\u001b[0;34m\u001b[0m\u001b[0m\n\u001b[0m\u001b[1;32m   5346\u001b[0m \u001b[0;34m\u001b[0m\u001b[0m\n\u001b[1;32m   5347\u001b[0m     \u001b[0;34m@\u001b[0m\u001b[0mproperty\u001b[0m\u001b[0;34m\u001b[0m\u001b[0;34m\u001b[0m\u001b[0m\n",
            "\u001b[0;32m/usr/local/lib/python3.6/dist-packages/pandas/core/internals/managers.py\u001b[0m in \u001b[0;36mas_array\u001b[0;34m(self, transpose, dtype, copy, na_value)\u001b[0m\n\u001b[1;32m    860\u001b[0m                     \u001b[0marr\u001b[0m \u001b[0;34m=\u001b[0m \u001b[0marr\u001b[0m\u001b[0;34m.\u001b[0m\u001b[0mastype\u001b[0m\u001b[0;34m(\u001b[0m\u001b[0mdtype\u001b[0m\u001b[0;34m,\u001b[0m \u001b[0mcopy\u001b[0m\u001b[0;34m=\u001b[0m\u001b[0;32mFalse\u001b[0m\u001b[0;34m)\u001b[0m\u001b[0;34m\u001b[0m\u001b[0;34m\u001b[0m\u001b[0m\n\u001b[1;32m    861\u001b[0m         \u001b[0;32melse\u001b[0m\u001b[0;34m:\u001b[0m\u001b[0;34m\u001b[0m\u001b[0;34m\u001b[0m\u001b[0m\n\u001b[0;32m--> 862\u001b[0;31m             \u001b[0marr\u001b[0m \u001b[0;34m=\u001b[0m \u001b[0mself\u001b[0m\u001b[0;34m.\u001b[0m\u001b[0m_interleave\u001b[0m\u001b[0;34m(\u001b[0m\u001b[0mdtype\u001b[0m\u001b[0;34m=\u001b[0m\u001b[0mdtype\u001b[0m\u001b[0;34m,\u001b[0m \u001b[0mna_value\u001b[0m\u001b[0;34m=\u001b[0m\u001b[0mna_value\u001b[0m\u001b[0;34m)\u001b[0m\u001b[0;34m\u001b[0m\u001b[0;34m\u001b[0m\u001b[0m\n\u001b[0m\u001b[1;32m    863\u001b[0m             \u001b[0;31m# The underlying data was copied within _interleave\u001b[0m\u001b[0;34m\u001b[0m\u001b[0;34m\u001b[0m\u001b[0;34m\u001b[0m\u001b[0m\n\u001b[1;32m    864\u001b[0m             \u001b[0mcopy\u001b[0m \u001b[0;34m=\u001b[0m \u001b[0;32mFalse\u001b[0m\u001b[0;34m\u001b[0m\u001b[0;34m\u001b[0m\u001b[0m\n",
            "\u001b[0;32m/usr/local/lib/python3.6/dist-packages/pandas/core/internals/managers.py\u001b[0m in \u001b[0;36m_interleave\u001b[0;34m(self, dtype, na_value)\u001b[0m\n\u001b[1;32m    900\u001b[0m             \u001b[0;32melse\u001b[0m\u001b[0;34m:\u001b[0m\u001b[0;34m\u001b[0m\u001b[0;34m\u001b[0m\u001b[0m\n\u001b[1;32m    901\u001b[0m                 \u001b[0marr\u001b[0m \u001b[0;34m=\u001b[0m \u001b[0mblk\u001b[0m\u001b[0;34m.\u001b[0m\u001b[0mget_values\u001b[0m\u001b[0;34m(\u001b[0m\u001b[0mdtype\u001b[0m\u001b[0;34m)\u001b[0m\u001b[0;34m\u001b[0m\u001b[0;34m\u001b[0m\u001b[0m\n\u001b[0;32m--> 902\u001b[0;31m             \u001b[0mresult\u001b[0m\u001b[0;34m[\u001b[0m\u001b[0mrl\u001b[0m\u001b[0;34m.\u001b[0m\u001b[0mindexer\u001b[0m\u001b[0;34m]\u001b[0m \u001b[0;34m=\u001b[0m \u001b[0marr\u001b[0m\u001b[0;34m\u001b[0m\u001b[0;34m\u001b[0m\u001b[0m\n\u001b[0m\u001b[1;32m    903\u001b[0m             \u001b[0mitemmask\u001b[0m\u001b[0;34m[\u001b[0m\u001b[0mrl\u001b[0m\u001b[0;34m.\u001b[0m\u001b[0mindexer\u001b[0m\u001b[0;34m]\u001b[0m \u001b[0;34m=\u001b[0m \u001b[0;36m1\u001b[0m\u001b[0;34m\u001b[0m\u001b[0;34m\u001b[0m\u001b[0m\n\u001b[1;32m    904\u001b[0m \u001b[0;34m\u001b[0m\u001b[0m\n",
            "\u001b[0;31mKeyboardInterrupt\u001b[0m: "
          ]
        }
      ]
    },
    {
      "cell_type": "code",
      "metadata": {
        "id": "Xr__jRbdMe0u",
        "colab": {
          "base_uri": "https://localhost:8080/",
          "height": 295
        },
        "outputId": "ee1e450b-4cac-4c32-bb0e-793701ddd937"
      },
      "source": [
        "# Visualize data to graph  \n",
        "iter = np.arange(1,len(test_losses)+1)\n",
        "plt.title('NN Mean Squerd Error minimization')\n",
        "plt.plot(iter, test_losses, label='Testing loss')\n",
        "plt.plot(iter, train_losses, label='Training loss')\n",
        "plt.legend()\n",
        "plt.xlabel('Number of iterations')\n",
        "plt.ylabel('Mean Squerd Error')\n",
        "plt.show()"
      ],
      "execution_count": 25,
      "outputs": [
        {
          "output_type": "display_data",
          "data": {
            "image/png": "[encoded data removed]",
            "text/plain": [
              "<Figure size 432x288 with 1 Axes>"
            ]
          },
          "metadata": {
            "tags": [],
            "needs_background": "light"
          }
        }
      ]
    },
    {
      "cell_type": "code",
      "metadata": {
        "id": "F0uQG8nzLzN_",
        "colab": {
          "base_uri": "https://localhost:8080/",
          "height": 295
        },
        "outputId": "186ad646-c859-4f96-e928-779571b12fdb"
      },
      "source": [
        "predicted_values = sess.run(predict, feed_dict = {x: data_x_test})\r\n",
        "plt.title('Comparison true values and predicted values')\r\n",
        "plt.plot(data_test_dates, predicted_values, label='predicted values')\r\n",
        "plt.plot(data_test_dates, data_y_test, label='true values')\r\n",
        "plt.legend()\r\n",
        "plt.xlabel('date')\r\n",
        "plt.ylabel('closeing price')\r\n",
        "plt.show()"
      ],
      "execution_count": 26,
      "outputs": [
        {
          "output_type": "display_data",
          "data": {
            "image/png": "[encoded data removed]",
            "text/plain": [
              "<Figure size 432x288 with 1 Axes>"
            ]
          },
          "metadata": {
            "tags": [],
            "needs_background": "light"
          }
        }
      ]
    },
    {
      "cell_type": "code",
      "metadata": {
        "id": "6HFYlKQKL5OB"
      },
      "source": [
        ""
      ],
      "execution_count": null,
      "outputs": []
    },
    {
      "cell_type": "code",
      "metadata": {
        "id": "pz8Xc5nD_Uye"
      },
      "source": [
        ""
      ],
      "execution_count": null,
      "outputs": []
    },
    {
      "cell_type": "code",
      "metadata": {
        "id": "C6DGe1xp_U1V"
      },
      "source": [
        ""
      ],
      "execution_count": null,
      "outputs": []
    },
    {
      "cell_type": "code",
      "metadata": {
        "id": "JoXEQ4bs_U4M"
      },
      "source": [
        ""
      ],
      "execution_count": null,
      "outputs": []
    },
    {
      "cell_type": "code",
      "metadata": {
        "id": "KWo9rxNu_U8K"
      },
      "source": [
        ""
      ],
      "execution_count": null,
      "outputs": []
    }
  ]
}