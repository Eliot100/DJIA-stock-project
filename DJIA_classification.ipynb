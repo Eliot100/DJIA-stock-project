{
  "nbformat": 4,
  "nbformat_minor": 0,
  "metadata": {
    "colab": {
      "name": "DJIA classification.ipynb",
      "provenance": []
    },
    "kernelspec": {
      "name": "python3",
      "display_name": "Python 3"
    }
  },
  "cells": [
    {
      "cell_type": "code",
      "metadata": {
        "id": "eofjxGhfYTda"
      },
      "source": [
        "import pandas as pd\r\n",
        "import numpy as np\r\n",
        "from sklearn.preprocessing import MinMaxScaler"
      ],
      "execution_count": 1,
      "outputs": []
    },
    {
      "cell_type": "code",
      "metadata": {
        "id": "D0ExoUryYcJh"
      },
      "source": [
        "df_RedditNews = pd.read_csv('https://raw.githubusercontent.com/Eliot100/DJIA-stock-project/main/RedditNews.csv')\r\n",
        "df_DJIA = pd.read_csv('https://raw.githubusercontent.com/Eliot100/DJIA-stock-project/main/upload_DJIA_table.csv')\r\n",
        "df_Combined_News_DJIA = pd.read_csv('https://raw.githubusercontent.com/Eliot100/DJIA-stock-project/main/Combined_News_DJIA.csv')"
      ],
      "execution_count": 2,
      "outputs": []
    },
    {
      "cell_type": "code",
      "metadata": {
        "colab": {
          "base_uri": "https://localhost:8080/",
          "height": 760
        },
        "id": "HAIbcHlOYcT3",
        "outputId": "2c3dc4db-e212-448d-a6bd-68199c89d55f"
      },
      "source": [
        "df = df_Combined_News_DJIA.copy()\r\n",
        "train = df[df['Date'] < '20150101']\r\n",
        "test = df[df['Date'] > '20141231']\r\n",
        "test.tail()"
      ],
      "execution_count": 3,
      "outputs": [
        {
          "output_type": "execute_result",
          "data": {
            "text/html": [
              "<div>\n",
              "<style scoped>\n",
              "    .dataframe tbody tr th:only-of-type {\n",
              "        vertical-align: middle;\n",
              "    }\n",
              "\n",
              "    .dataframe tbody tr th {\n",
              "        vertical-align: top;\n",
              "    }\n",
              "\n",
              "    .dataframe thead th {\n",
              "        text-align: right;\n",
              "    }\n",
              "</style>\n",
              "<table border=\"1\" class=\"dataframe\">\n",
              "  <thead>\n",
              "    <tr style=\"text-align: right;\">\n",
              "      <th></th>\n",
              "      <th>Date</th>\n",
              "      <th>Label</th>\n",
              "      <th>Top1</th>\n",
              "      <th>Top2</th>\n",
              "      <th>Top3</th>\n",
              "      <th>Top4</th>\n",
              "      <th>Top5</th>\n",
              "      <th>Top6</th>\n",
              "      <th>Top7</th>\n",
              "      <th>Top8</th>\n",
              "      <th>Top9</th>\n",
              "      <th>Top10</th>\n",
              "      <th>Top11</th>\n",
              "      <th>Top12</th>\n",
              "      <th>Top13</th>\n",
              "      <th>Top14</th>\n",
              "      <th>Top15</th>\n",
              "      <th>Top16</th>\n",
              "      <th>Top17</th>\n",
              "      <th>Top18</th>\n",
              "      <th>Top19</th>\n",
              "      <th>Top20</th>\n",
              "      <th>Top21</th>\n",
              "      <th>Top22</th>\n",
              "      <th>Top23</th>\n",
              "      <th>Top24</th>\n",
              "      <th>Top25</th>\n",
              "    </tr>\n",
              "  </thead>\n",
              "  <tbody>\n",
              "    <tr>\n",
              "      <th>1984</th>\n",
              "      <td>2016-06-27</td>\n",
              "      <td>0</td>\n",
              "      <td>Barclays and RBS shares suspended from trading...</td>\n",
              "      <td>Pope says Church should ask forgiveness from g...</td>\n",
              "      <td>Poland 'shocked' by xenophobic abuse of Poles ...</td>\n",
              "      <td>There will be no second referendum, cabinet ag...</td>\n",
              "      <td>Scotland welcome to join EU, Merkel ally says</td>\n",
              "      <td>Sterling dips below Friday's 31-year low amid ...</td>\n",
              "      <td>No negative news about South African President...</td>\n",
              "      <td>Surge in Hate Crimes in the U.K. Following U.K...</td>\n",
              "      <td>Weapons shipped into Jordan by the CIA and Sau...</td>\n",
              "      <td>Angela Merkel said the U.K. must file exit pap...</td>\n",
              "      <td>In a birth offering hope to a threatened speci...</td>\n",
              "      <td>Sky News Journalist Left Speechless As Leave M...</td>\n",
              "      <td>Giant panda in Macau gives birth to twins</td>\n",
              "      <td>Get out now: EU leader tells Britain it must i...</td>\n",
              "      <td>Sea turtle 'beaten and left for dead' on beach...</td>\n",
              "      <td>German lawyers to probe Erdogan over alleged w...</td>\n",
              "      <td>Boris Johnson says the UK will continue to \"in...</td>\n",
              "      <td>Richard Branson is calling on the UK governmen...</td>\n",
              "      <td>Turkey 'sorry for downing Russian jet'</td>\n",
              "      <td>Edward Snowden lawyer vows new push for pardon...</td>\n",
              "      <td>Brexit opinion poll reveals majority don't wan...</td>\n",
              "      <td>Conservative MP Leave Campaigner: \"The leave c...</td>\n",
              "      <td>Economists predict UK recession, further weake...</td>\n",
              "      <td>New EU 'superstate plan by France, Germany: Cr...</td>\n",
              "      <td>Pakistani clerics declare transgender marriage...</td>\n",
              "    </tr>\n",
              "    <tr>\n",
              "      <th>1985</th>\n",
              "      <td>2016-06-28</td>\n",
              "      <td>1</td>\n",
              "      <td>2,500 Scientists To Australia: If You Want To ...</td>\n",
              "      <td>The personal details of 112,000 French police ...</td>\n",
              "      <td>S&amp;amp;P cuts United Kingdom sovereign credit r...</td>\n",
              "      <td>Huge helium deposit found in Africa</td>\n",
              "      <td>CEO of the South African state broadcaster qui...</td>\n",
              "      <td>Brexit cost investors $2 trillion, the worst o...</td>\n",
              "      <td>Hong Kong democracy activists call for return ...</td>\n",
              "      <td>Brexit: Iceland president says UK can join 'tr...</td>\n",
              "      <td>UK's Osborne: 'Absolutely' going to have to cu...</td>\n",
              "      <td>'Do not let Scotland down now' : Scottish MEP ...</td>\n",
              "      <td>British pound could hit history-making dollar ...</td>\n",
              "      <td>Merkel vows to strengthen EU, tells UK no 'che...</td>\n",
              "      <td>\"Ryanair will not deploy new aircraft on route...</td>\n",
              "      <td>People, ever more greedy and stupid, destroy t...</td>\n",
              "      <td>Siemens freezes new UK wind power investment f...</td>\n",
              "      <td>US, Canada and Mexico pledge 50% of power from...</td>\n",
              "      <td>There is increasing evidence that Australia is...</td>\n",
              "      <td>Richard Branson, the founder of Virgin Group, ...</td>\n",
              "      <td>37,000-yr-old skull from Borneo reveals surpri...</td>\n",
              "      <td>Palestinians stone Western Wall worshipers; po...</td>\n",
              "      <td>Jean-Claude Juncker asks Farage: Why are you h...</td>\n",
              "      <td>\"Romanians for Remainians\" offering a new home...</td>\n",
              "      <td>Brexit: Gibraltar in talks with Scotland to st...</td>\n",
              "      <td>8 Suicide Bombers Strike Lebanon</td>\n",
              "      <td>Mexico's security forces routinely use 'sexual...</td>\n",
              "    </tr>\n",
              "    <tr>\n",
              "      <th>1986</th>\n",
              "      <td>2016-06-29</td>\n",
              "      <td>1</td>\n",
              "      <td>Explosion At Airport In Istanbul</td>\n",
              "      <td>Yemeni former president: Terrorism is the offs...</td>\n",
              "      <td>UK must accept freedom of movement to access E...</td>\n",
              "      <td>Devastated: scientists too late to captive bre...</td>\n",
              "      <td>British Labor Party leader Jeremy Corbyn loses...</td>\n",
              "      <td>A Muslim Shop in the UK Was Just Firebombed Wh...</td>\n",
              "      <td>Mexican Authorities Sexually Torture Women in ...</td>\n",
              "      <td>UK shares and pound continue to recover</td>\n",
              "      <td>Iceland historian Johannesson wins presidentia...</td>\n",
              "      <td>99-Million-Yr-Old Bird Wings Found Encased in ...</td>\n",
              "      <td>A chatbot programmed by a British teenager has...</td>\n",
              "      <td>The Philippine president-elect said Monday he ...</td>\n",
              "      <td>Former Belgian Prime Minister ridicules Nigel ...</td>\n",
              "      <td>Brexiteer Nigel Farage To EU: 'You're Not Laug...</td>\n",
              "      <td>Islamic State bombings in southern Yemen kill ...</td>\n",
              "      <td>Escape Tunnel, Dug by Hand, Is Found at Holoca...</td>\n",
              "      <td>The land under Beijing is sinking by as much a...</td>\n",
              "      <td>Car bomb and Anti-Islamic attack on Mosque in ...</td>\n",
              "      <td>Emaciated lions in Taiz Zoo are trapped in blo...</td>\n",
              "      <td>Rupert Murdoch describes Brexit as 'wonderful'...</td>\n",
              "      <td>More than 40 killed in Yemen suicide attacks</td>\n",
              "      <td>Google Found Disastrous Symantec and Norton Vu...</td>\n",
              "      <td>Extremist violence on the rise in Germany: Dom...</td>\n",
              "      <td>BBC News: Labour MPs pass Corbyn no-confidence...</td>\n",
              "      <td>Tiny New Zealand town with 'too many jobs' lau...</td>\n",
              "    </tr>\n",
              "    <tr>\n",
              "      <th>1987</th>\n",
              "      <td>2016-06-30</td>\n",
              "      <td>1</td>\n",
              "      <td>Jamaica proposes marijuana dispensers for tour...</td>\n",
              "      <td>Stephen Hawking says pollution and 'stupidity'...</td>\n",
              "      <td>Boris Johnson says he will not run for Tory pa...</td>\n",
              "      <td>Six gay men in Ivory Coast were abused and for...</td>\n",
              "      <td>Switzerland denies citizenship to Muslim immig...</td>\n",
              "      <td>Palestinian terrorist stabs israeli teen girl ...</td>\n",
              "      <td>Puerto Rico will default on $1 billion of debt...</td>\n",
              "      <td>Republic of Ireland fans to be awarded medal f...</td>\n",
              "      <td>Afghan suicide bomber 'kills up to 40' - BBC News</td>\n",
              "      <td>US airstrikes kill at least 250 ISIS fighters ...</td>\n",
              "      <td>Turkish Cop Who Took Down Istanbul Gunman Hail...</td>\n",
              "      <td>Cannabis compounds could treat Alzheimer's by ...</td>\n",
              "      <td>Japan's top court has approved blanket surveil...</td>\n",
              "      <td>CIA Gave Romania Millions to Host Secret Prisons</td>\n",
              "      <td>Groups urge U.N. to suspend Saudi Arabia from ...</td>\n",
              "      <td>Googles free wifi at Indian railway stations i...</td>\n",
              "      <td>Mounting evidence suggests 'hobbits' were wipe...</td>\n",
              "      <td>The men who carried out Tuesday's terror attac...</td>\n",
              "      <td>Calls to suspend Saudi Arabia from UN Human Ri...</td>\n",
              "      <td>More Than 100 Nobel Laureates Call Out Greenpe...</td>\n",
              "      <td>British pedophile sentenced to 85 years in US ...</td>\n",
              "      <td>US permitted 1,200 offshore fracks in Gulf of ...</td>\n",
              "      <td>We will be swimming in ridicule - French beach...</td>\n",
              "      <td>UEFA says no minutes of silence for Istanbul v...</td>\n",
              "      <td>Law Enforcement Sources: Gun Used in Paris Ter...</td>\n",
              "    </tr>\n",
              "    <tr>\n",
              "      <th>1988</th>\n",
              "      <td>2016-07-01</td>\n",
              "      <td>1</td>\n",
              "      <td>A 117-year-old woman in Mexico City finally re...</td>\n",
              "      <td>IMF chief backs Athens as permanent Olympic host</td>\n",
              "      <td>The president of France says if Brexit won, so...</td>\n",
              "      <td>British Man Who Must Give Police 24 Hours' Not...</td>\n",
              "      <td>100+ Nobel laureates urge Greenpeace to stop o...</td>\n",
              "      <td>Brazil: Huge spike in number of police killing...</td>\n",
              "      <td>Austria's highest court annuls presidential el...</td>\n",
              "      <td>Facebook wins privacy case, can track any Belg...</td>\n",
              "      <td>Switzerland denies Muslim girls citizenship af...</td>\n",
              "      <td>China kills millions of innocent meditators fo...</td>\n",
              "      <td>France Cracks Down on Factory Farms - A viral ...</td>\n",
              "      <td>Abbas PLO Faction Calls Killer of 13-Year-Old ...</td>\n",
              "      <td>Taiwanese warship accidentally fires missile t...</td>\n",
              "      <td>Iran celebrates American Human Rights Week, mo...</td>\n",
              "      <td>U.N. panel moves to curb bias against L.G.B.T....</td>\n",
              "      <td>The United States has placed Myanmar, Uzbekist...</td>\n",
              "      <td>S&amp;amp;P revises European Union credit rating t...</td>\n",
              "      <td>India gets $1 billion loan from World Bank for...</td>\n",
              "      <td>U.S. sailors detained by Iran spoke too much u...</td>\n",
              "      <td>Mass fish kill in Vietnam solved as Taiwan ste...</td>\n",
              "      <td>Philippines president Rodrigo Duterte urges pe...</td>\n",
              "      <td>Spain arrests three Pakistanis accused of prom...</td>\n",
              "      <td>Venezuela, where anger over food shortages is ...</td>\n",
              "      <td>A Hindu temple worker has been killed by three...</td>\n",
              "      <td>Ozone layer hole seems to be healing - US &amp;amp...</td>\n",
              "    </tr>\n",
              "  </tbody>\n",
              "</table>\n",
              "</div>"
            ],
            "text/plain": [
              "            Date  ...                                              Top25\n",
              "1984  2016-06-27  ...  Pakistani clerics declare transgender marriage...\n",
              "1985  2016-06-28  ...  Mexico's security forces routinely use 'sexual...\n",
              "1986  2016-06-29  ...  Tiny New Zealand town with 'too many jobs' lau...\n",
              "1987  2016-06-30  ...  Law Enforcement Sources: Gun Used in Paris Ter...\n",
              "1988  2016-07-01  ...  Ozone layer hole seems to be healing - US &amp...\n",
              "\n",
              "[5 rows x 27 columns]"
            ]
          },
          "metadata": {
            "tags": []
          },
          "execution_count": 3
        }
      ]
    },
    {
      "cell_type": "code",
      "metadata": {
        "id": "Te-znEEIYcW4"
      },
      "source": [
        "data = train.iloc[:, 2:27]\r\n",
        "data.replace(\"[^a-zA-Z]\", \" \", regex=True, inplace=True)"
      ],
      "execution_count": 4,
      "outputs": []
    },
    {
      "cell_type": "code",
      "metadata": {
        "colab": {
          "base_uri": "https://localhost:8080/",
          "height": 725
        },
        "id": "5UsALOygYcZ9",
        "outputId": "a32890b5-f267-401a-ad0c-eea509006264"
      },
      "source": [
        "list1 = [i for i in range(25)]\r\n",
        "new_Index = [str(i) for i in list1]\r\n",
        "data.columns = new_Index\r\n",
        "data.head(5)"
      ],
      "execution_count": 5,
      "outputs": [
        {
          "output_type": "execute_result",
          "data": {
            "text/html": [
              "<div>\n",
              "<style scoped>\n",
              "    .dataframe tbody tr th:only-of-type {\n",
              "        vertical-align: middle;\n",
              "    }\n",
              "\n",
              "    .dataframe tbody tr th {\n",
              "        vertical-align: top;\n",
              "    }\n",
              "\n",
              "    .dataframe thead th {\n",
              "        text-align: right;\n",
              "    }\n",
              "</style>\n",
              "<table border=\"1\" class=\"dataframe\">\n",
              "  <thead>\n",
              "    <tr style=\"text-align: right;\">\n",
              "      <th></th>\n",
              "      <th>0</th>\n",
              "      <th>1</th>\n",
              "      <th>2</th>\n",
              "      <th>3</th>\n",
              "      <th>4</th>\n",
              "      <th>5</th>\n",
              "      <th>6</th>\n",
              "      <th>7</th>\n",
              "      <th>8</th>\n",
              "      <th>9</th>\n",
              "      <th>10</th>\n",
              "      <th>11</th>\n",
              "      <th>12</th>\n",
              "      <th>13</th>\n",
              "      <th>14</th>\n",
              "      <th>15</th>\n",
              "      <th>16</th>\n",
              "      <th>17</th>\n",
              "      <th>18</th>\n",
              "      <th>19</th>\n",
              "      <th>20</th>\n",
              "      <th>21</th>\n",
              "      <th>22</th>\n",
              "      <th>23</th>\n",
              "      <th>24</th>\n",
              "    </tr>\n",
              "  </thead>\n",
              "  <tbody>\n",
              "    <tr>\n",
              "      <th>0</th>\n",
              "      <td>b Georgia  downs two Russian warplanes  as cou...</td>\n",
              "      <td>b BREAKING  Musharraf to be impeached</td>\n",
              "      <td>b Russia Today  Columns of troops roll into So...</td>\n",
              "      <td>b Russian tanks are moving towards the capital...</td>\n",
              "      <td>b Afghan children raped with  impunity   U N  ...</td>\n",
              "      <td>b     Russian tanks have entered South Ossetia...</td>\n",
              "      <td>b Breaking  Georgia invades South Ossetia  Rus...</td>\n",
              "      <td>b The  enemy combatent  trials are nothing but...</td>\n",
              "      <td>b Georgian troops retreat from S  Osettain cap...</td>\n",
              "      <td>b Did the U S  Prep Georgia for War with Russia</td>\n",
              "      <td>b Rice Gives Green Light for Israel to Attack ...</td>\n",
              "      <td>b Announcing Class Action Lawsuit on Behalf of...</td>\n",
              "      <td>b So   Russia and Georgia are at war and the N...</td>\n",
              "      <td>b China tells Bush to stay out of other countr...</td>\n",
              "      <td>b Did World War III start today</td>\n",
              "      <td>b Georgia Invades South Ossetia   if Russia ge...</td>\n",
              "      <td>b Al Qaeda Faces Islamist Backlash</td>\n",
              "      <td>b Condoleezza Rice   The US would not act to p...</td>\n",
              "      <td>b This is a busy day   The European Union has ...</td>\n",
              "      <td>b Georgia will withdraw       soldiers from Ir...</td>\n",
              "      <td>b Why the Pentagon Thinks Attacking Iran is a ...</td>\n",
              "      <td>b Caucasus in crisis  Georgia invades South Os...</td>\n",
              "      <td>b Indian shoe manufactory    And again in a se...</td>\n",
              "      <td>b Visitors Suffering from Mental Illnesses Ban...</td>\n",
              "      <td>b No Help for Mexico s Kidnapping Surge</td>\n",
              "    </tr>\n",
              "    <tr>\n",
              "      <th>1</th>\n",
              "      <td>b Why wont America and Nato help us  If they w...</td>\n",
              "      <td>b Bush puts foot down on Georgian conflict</td>\n",
              "      <td>b Jewish Georgian minister  Thanks to Israeli ...</td>\n",
              "      <td>b Georgian army flees in disarray as Russians ...</td>\n",
              "      <td>b Olympic opening ceremony fireworks  faked</td>\n",
              "      <td>b What were the Mossad with fraudulent New Zea...</td>\n",
              "      <td>b Russia angered by Israeli military sale to G...</td>\n",
              "      <td>b An American citizen living in S Ossetia blam...</td>\n",
              "      <td>b Welcome To World War IV  Now In High Definit...</td>\n",
              "      <td>b Georgia s move  a mistake of monumental prop...</td>\n",
              "      <td>b Russia presses deeper into Georgia  U S  say...</td>\n",
              "      <td>b Abhinav Bindra wins first ever Individual Ol...</td>\n",
              "      <td>b  U S  ship heads for Arctic to define territ...</td>\n",
              "      <td>b Drivers in a Jerusalem taxi station threaten...</td>\n",
              "      <td>b The French Team is Stunned by Phelps and the...</td>\n",
              "      <td>b Israel and the US behind the Georgian aggres...</td>\n",
              "      <td>b  Do not believe TV  neither Russian nor Geor...</td>\n",
              "      <td>b Riots are still going on in Montreal  Canada...</td>\n",
              "      <td>b China to overtake US as largest manufacturer</td>\n",
              "      <td>b War in South Ossetia  PICS</td>\n",
              "      <td>b Israeli Physicians Group Condemns State Tort...</td>\n",
              "      <td>b  Russia has just beaten the United States ov...</td>\n",
              "      <td>b Perhaps  the  question about the Georgia   R...</td>\n",
              "      <td>b Russia is so much better at war</td>\n",
              "      <td>b So this is what it s come to  trading sex fo...</td>\n",
              "    </tr>\n",
              "    <tr>\n",
              "      <th>2</th>\n",
              "      <td>b Remember that adorable   year old who sang a...</td>\n",
              "      <td>b Russia  ends Georgia operation</td>\n",
              "      <td>b  If we had no sexual harassment we would hav...</td>\n",
              "      <td>b Al Qa eda is losing support in Iraq because ...</td>\n",
              "      <td>b Ceasefire in Georgia  Putin Outmaneuvers the...</td>\n",
              "      <td>b Why Microsoft and Intel tried to kill the XO...</td>\n",
              "      <td>b Stratfor  The Russo Georgian War and the Bal...</td>\n",
              "      <td>b I m Trying to Get a Sense of This Whole Geor...</td>\n",
              "      <td>b The US military was surprised by the timing ...</td>\n",
              "      <td>b U S  Beats War Drum as Iran Dumps the Dollar</td>\n",
              "      <td>b Gorbachev   Georgian military attacked the S...</td>\n",
              "      <td>b CNN use footage of Tskhinvali ruins to cover...</td>\n",
              "      <td>b Beginning a war as the Olympics were opening...</td>\n",
              "      <td>b    pyramids as large as the Luxor stacked in...</td>\n",
              "      <td>b The    Top Party Cities in the World</td>\n",
              "      <td>b U S  troops still in Georgia  did you know t...</td>\n",
              "      <td>b Why Russias response to Georgia was right</td>\n",
              "      <td>b Gorbachev accuses U S  of making a  serious ...</td>\n",
              "      <td>b Russia  Georgia  and NATO  Cold War Two</td>\n",
              "      <td>b Remember that adorable    year old who led y...</td>\n",
              "      <td>b War in Georgia  The Israeli connection</td>\n",
              "      <td>b All signs point to the US encouraging Georgi...</td>\n",
              "      <td>b Christopher King argues that the US and NATO...</td>\n",
              "      <td>b America  The New Mexico</td>\n",
              "      <td>b BBC NEWS   Asia Pacific   Extinction  by man...</td>\n",
              "    </tr>\n",
              "    <tr>\n",
              "      <th>3</th>\n",
              "      <td>b  U S  refuses Israel weapons to attack Iran ...</td>\n",
              "      <td>b When the president ordered to attack Tskhinv...</td>\n",
              "      <td>b  Israel clears troops who killed Reuters cam...</td>\n",
              "      <td>b Britain  s policy of being tough on drugs is...</td>\n",
              "      <td>b Body of    year old found in trunk  Latest  ...</td>\n",
              "      <td>b China has moved     million  quake survivors...</td>\n",
              "      <td>b Bush announces Operation Get All Up In Russi...</td>\n",
              "      <td>b Russian forces sink Georgian ships</td>\n",
              "      <td>b The commander of a Navy air reconnaissance s...</td>\n",
              "      <td>b     of CNN readers  Russia s actions in Geor...</td>\n",
              "      <td>b USA to send fleet into Black Sea to help Geo...</td>\n",
              "      <td>b US warns against Israeli plan to strike agai...</td>\n",
              "      <td>b In an intriguing cyberalliance  two Estonian...</td>\n",
              "      <td>b The CNN Effect  Georgia Schools Russia in In...</td>\n",
              "      <td>b Why Russias response to Georgia was right</td>\n",
              "      <td>b Elephants extinct by</td>\n",
              "      <td>b US humanitarian missions soon in Georgia   i...</td>\n",
              "      <td>b Georgia s DDOS came from US sources</td>\n",
              "      <td>b Russian convoy heads into Georgia  violating...</td>\n",
              "      <td>b Israeli defence minister  US against strike ...</td>\n",
              "      <td>b Gorbachev  We Had No Choice</td>\n",
              "      <td>b Witness  Russian forces head towards Tbilisi...</td>\n",
              "      <td>b  Quarter of Russians blame U S  for conflict...</td>\n",
              "      <td>b Georgian president  says US military will ta...</td>\n",
              "      <td>b       Nobel laureate Aleksander Solzhenitsyn...</td>\n",
              "    </tr>\n",
              "    <tr>\n",
              "      <th>4</th>\n",
              "      <td>b All the experts admit that we should legalis...</td>\n",
              "      <td>b War in South Osetia      pictures made by a ...</td>\n",
              "      <td>b Swedish wrestler Ara Abrahamian throws away ...</td>\n",
              "      <td>b Russia exaggerated the death toll in South O...</td>\n",
              "      <td>b Missile That Killed   Inside Pakistan May Ha...</td>\n",
              "      <td>b Rushdie Condemns Random House s Refusal to P...</td>\n",
              "      <td>b Poland and US agree to missle defense deal  ...</td>\n",
              "      <td>b Will the Russians conquer Tblisi  Bet on it ...</td>\n",
              "      <td>b Russia exaggerating South Ossetian death tol...</td>\n",
              "      <td>b  Musharraf expected to resign rather than fa...</td>\n",
              "      <td>b Moscow Made Plans Months Ago to Invade Georgia</td>\n",
              "      <td>b Why Russias response to Georgia was right</td>\n",
              "      <td>b Nigeria has handed over the potentially oil ...</td>\n",
              "      <td>b The US and Poland have agreed a preliminary ...</td>\n",
              "      <td>b Russia apparently is sabotaging infrastructu...</td>\n",
              "      <td>b Bank analyst forecast Georgian crisis   days...</td>\n",
              "      <td>b Georgia confict could set back Russia s US r...</td>\n",
              "      <td>b War in the Caucasus is as much the product o...</td>\n",
              "      <td>b  Non media  photos of South Ossetia Georgia ...</td>\n",
              "      <td>b Georgian TV reporter shot by Russian sniper ...</td>\n",
              "      <td>b Saudi Arabia  Mother moves to block child ma...</td>\n",
              "      <td>b Taliban wages war on humanitarian aid workers</td>\n",
              "      <td>b Russia  World   can forget about  Georgia  s...</td>\n",
              "      <td>b Darfur rebels accuse Sudan of mounting major...</td>\n",
              "      <td>b Philippines   Peace Advocate say Muslims nee...</td>\n",
              "    </tr>\n",
              "  </tbody>\n",
              "</table>\n",
              "</div>"
            ],
            "text/plain": [
              "                                                   0  ...                                                 24\n",
              "0  b Georgia  downs two Russian warplanes  as cou...  ...           b No Help for Mexico s Kidnapping Surge \n",
              "1  b Why wont America and Nato help us  If they w...  ...  b So this is what it s come to  trading sex fo...\n",
              "2  b Remember that adorable   year old who sang a...  ...  b BBC NEWS   Asia Pacific   Extinction  by man...\n",
              "3  b  U S  refuses Israel weapons to attack Iran ...  ...  b       Nobel laureate Aleksander Solzhenitsyn...\n",
              "4  b All the experts admit that we should legalis...  ...  b Philippines   Peace Advocate say Muslims nee...\n",
              "\n",
              "[5 rows x 25 columns]"
            ]
          },
          "metadata": {
            "tags": []
          },
          "execution_count": 5
        }
      ]
    },
    {
      "cell_type": "code",
      "metadata": {
        "colab": {
          "base_uri": "https://localhost:8080/",
          "height": 373
        },
        "id": "J5nL3EeDYcct",
        "outputId": "b25efff2-a2e7-4f1e-e2ce-ee838cf7c37d"
      },
      "source": [
        "for index in new_Index:\r\n",
        "    data[index] = data[index].str.lower()\r\n",
        "data.head(2)"
      ],
      "execution_count": 6,
      "outputs": [
        {
          "output_type": "execute_result",
          "data": {
            "text/html": [
              "<div>\n",
              "<style scoped>\n",
              "    .dataframe tbody tr th:only-of-type {\n",
              "        vertical-align: middle;\n",
              "    }\n",
              "\n",
              "    .dataframe tbody tr th {\n",
              "        vertical-align: top;\n",
              "    }\n",
              "\n",
              "    .dataframe thead th {\n",
              "        text-align: right;\n",
              "    }\n",
              "</style>\n",
              "<table border=\"1\" class=\"dataframe\">\n",
              "  <thead>\n",
              "    <tr style=\"text-align: right;\">\n",
              "      <th></th>\n",
              "      <th>0</th>\n",
              "      <th>1</th>\n",
              "      <th>2</th>\n",
              "      <th>3</th>\n",
              "      <th>4</th>\n",
              "      <th>5</th>\n",
              "      <th>6</th>\n",
              "      <th>7</th>\n",
              "      <th>8</th>\n",
              "      <th>9</th>\n",
              "      <th>10</th>\n",
              "      <th>11</th>\n",
              "      <th>12</th>\n",
              "      <th>13</th>\n",
              "      <th>14</th>\n",
              "      <th>15</th>\n",
              "      <th>16</th>\n",
              "      <th>17</th>\n",
              "      <th>18</th>\n",
              "      <th>19</th>\n",
              "      <th>20</th>\n",
              "      <th>21</th>\n",
              "      <th>22</th>\n",
              "      <th>23</th>\n",
              "      <th>24</th>\n",
              "    </tr>\n",
              "  </thead>\n",
              "  <tbody>\n",
              "    <tr>\n",
              "      <th>0</th>\n",
              "      <td>b georgia  downs two russian warplanes  as cou...</td>\n",
              "      <td>b breaking  musharraf to be impeached</td>\n",
              "      <td>b russia today  columns of troops roll into so...</td>\n",
              "      <td>b russian tanks are moving towards the capital...</td>\n",
              "      <td>b afghan children raped with  impunity   u n  ...</td>\n",
              "      <td>b     russian tanks have entered south ossetia...</td>\n",
              "      <td>b breaking  georgia invades south ossetia  rus...</td>\n",
              "      <td>b the  enemy combatent  trials are nothing but...</td>\n",
              "      <td>b georgian troops retreat from s  osettain cap...</td>\n",
              "      <td>b did the u s  prep georgia for war with russia</td>\n",
              "      <td>b rice gives green light for israel to attack ...</td>\n",
              "      <td>b announcing class action lawsuit on behalf of...</td>\n",
              "      <td>b so   russia and georgia are at war and the n...</td>\n",
              "      <td>b china tells bush to stay out of other countr...</td>\n",
              "      <td>b did world war iii start today</td>\n",
              "      <td>b georgia invades south ossetia   if russia ge...</td>\n",
              "      <td>b al qaeda faces islamist backlash</td>\n",
              "      <td>b condoleezza rice   the us would not act to p...</td>\n",
              "      <td>b this is a busy day   the european union has ...</td>\n",
              "      <td>b georgia will withdraw       soldiers from ir...</td>\n",
              "      <td>b why the pentagon thinks attacking iran is a ...</td>\n",
              "      <td>b caucasus in crisis  georgia invades south os...</td>\n",
              "      <td>b indian shoe manufactory    and again in a se...</td>\n",
              "      <td>b visitors suffering from mental illnesses ban...</td>\n",
              "      <td>b no help for mexico s kidnapping surge</td>\n",
              "    </tr>\n",
              "    <tr>\n",
              "      <th>1</th>\n",
              "      <td>b why wont america and nato help us  if they w...</td>\n",
              "      <td>b bush puts foot down on georgian conflict</td>\n",
              "      <td>b jewish georgian minister  thanks to israeli ...</td>\n",
              "      <td>b georgian army flees in disarray as russians ...</td>\n",
              "      <td>b olympic opening ceremony fireworks  faked</td>\n",
              "      <td>b what were the mossad with fraudulent new zea...</td>\n",
              "      <td>b russia angered by israeli military sale to g...</td>\n",
              "      <td>b an american citizen living in s ossetia blam...</td>\n",
              "      <td>b welcome to world war iv  now in high definit...</td>\n",
              "      <td>b georgia s move  a mistake of monumental prop...</td>\n",
              "      <td>b russia presses deeper into georgia  u s  say...</td>\n",
              "      <td>b abhinav bindra wins first ever individual ol...</td>\n",
              "      <td>b  u s  ship heads for arctic to define territ...</td>\n",
              "      <td>b drivers in a jerusalem taxi station threaten...</td>\n",
              "      <td>b the french team is stunned by phelps and the...</td>\n",
              "      <td>b israel and the us behind the georgian aggres...</td>\n",
              "      <td>b  do not believe tv  neither russian nor geor...</td>\n",
              "      <td>b riots are still going on in montreal  canada...</td>\n",
              "      <td>b china to overtake us as largest manufacturer</td>\n",
              "      <td>b war in south ossetia  pics</td>\n",
              "      <td>b israeli physicians group condemns state tort...</td>\n",
              "      <td>b  russia has just beaten the united states ov...</td>\n",
              "      <td>b perhaps  the  question about the georgia   r...</td>\n",
              "      <td>b russia is so much better at war</td>\n",
              "      <td>b so this is what it s come to  trading sex fo...</td>\n",
              "    </tr>\n",
              "  </tbody>\n",
              "</table>\n",
              "</div>"
            ],
            "text/plain": [
              "                                                   0  ...                                                 24\n",
              "0  b georgia  downs two russian warplanes  as cou...  ...           b no help for mexico s kidnapping surge \n",
              "1  b why wont america and nato help us  if they w...  ...  b so this is what it s come to  trading sex fo...\n",
              "\n",
              "[2 rows x 25 columns]"
            ]
          },
          "metadata": {
            "tags": []
          },
          "execution_count": 6
        }
      ]
    },
    {
      "cell_type": "code",
      "metadata": {
        "colab": {
          "base_uri": "https://localhost:8080/",
          "height": 104
        },
        "id": "miVs4q3xZQY9",
        "outputId": "3bc1b8f5-5796-4039-81ae-553459ad69e4"
      },
      "source": [
        "headlines = []\r\n",
        "for row in range(0, len(data.index)):\r\n",
        "    headlines.append(' '.join(str(x) for x in data.iloc[row, 0:25]))\r\n",
        "headlines[5]"
      ],
      "execution_count": 7,
      "outputs": [
        {
          "output_type": "execute_result",
          "data": {
            "application/vnd.google.colaboratory.intrinsic+json": {
              "type": "string"
            },
            "text/plain": [
              "'b mom of missing gay man  too bad he s not a    year old cheerleader  then they d still be looking for him  b russia  u s  poland missile deal won t go  unpunished   b the government has been accused of creating laws that have a chilling effect on freedom of expression in the uk in a critical report from the un s committee on human rights  b the italian government has lashed out at an influential catholic magazine which suggested fascism might be resurfacing within the government   b gorbachev  georgia started conflict in s  ossetia  b china fakes more than your girlfriend   ethnic minority  children at olympics ceremony were fake too   b the un s criticism of freedom of expression in the uk are valid  b russian general threatens nuclear strike on poland as bush demands moscow withdraws from georgia  b russia can inspect polish missile defence site  b russia georgia conflict fueled by rush to control caspian energy resources  b business week  victory in georgia gives russia the edge in the struggle over access to the caspian s    billion barrels of oil and trillions of cubic feet of gas  b under soviet rule we didn t believe a word of our own propaganda    but we have learnt    that the west has its own propaganda and    is more powerful because people believe it   b ministers have been accused of building a national dna database  by stealth  by retaining profiles of nearly        children never convicted of a crime   b russia  georgia can  forget  regaining provinces  b russians  seize us weapons depot  in georgia  b why are redditors generally supportive of russias invasion of georgia  but critical of americas in iraq   b johann hari  we need to stop being such cowards about islam  b us officials have said that their military presence in georgia will now become permanent  b israel clears troops who killed reuters cameraman  b unenforceable laws encourage cops to escalate their tactics    until tragedy occurs  b what chinese pollution really looks like  b hacker kidnaps and tortures informant  posts picture as a warning to others  b bush tells putin  this aggression will not stand  b georgia is all about the oil pipelines  b rivals say they plan to remove georgian president '"
            ]
          },
          "metadata": {
            "tags": []
          },
          "execution_count": 7
        }
      ]
    },
    {
      "cell_type": "code",
      "metadata": {
        "id": "RJd-s3D2ZQbh"
      },
      "source": [
        "from sklearn.feature_extraction.text import CountVectorizer\r\n",
        "from sklearn.ensemble import RandomForestClassifier"
      ],
      "execution_count": 8,
      "outputs": []
    },
    {
      "cell_type": "code",
      "metadata": {
        "id": "Qv9bwPkhZQeb"
      },
      "source": [
        "# implememt BAG OF WORDS\r\n",
        "countVector = CountVectorizer(ngram_range=(2,2))\r\n",
        "#ngram(2,2) means it will combine the 2 words together and assign the value\r\n",
        "\r\n",
        "trainDataset = countVector.fit_transform(headlines)"
      ],
      "execution_count": 9,
      "outputs": []
    },
    {
      "cell_type": "code",
      "metadata": {
        "colab": {
          "base_uri": "https://localhost:8080/"
        },
        "id": "-sooFzd3ZQhP",
        "outputId": "99c952fb-ee58-44fa-b379-9506f1c26c03"
      },
      "source": [
        "randomClassifier = RandomForestClassifier(n_estimators=200, criterion='entropy')\r\n",
        "randomClassifier.fit(trainDataset, train['Label'])"
      ],
      "execution_count": 10,
      "outputs": [
        {
          "output_type": "execute_result",
          "data": {
            "text/plain": [
              "RandomForestClassifier(bootstrap=True, ccp_alpha=0.0, class_weight=None,\n",
              "                       criterion='entropy', max_depth=None, max_features='auto',\n",
              "                       max_leaf_nodes=None, max_samples=None,\n",
              "                       min_impurity_decrease=0.0, min_impurity_split=None,\n",
              "                       min_samples_leaf=1, min_samples_split=2,\n",
              "                       min_weight_fraction_leaf=0.0, n_estimators=200,\n",
              "                       n_jobs=None, oob_score=False, random_state=None,\n",
              "                       verbose=0, warm_start=False)"
            ]
          },
          "metadata": {
            "tags": []
          },
          "execution_count": 10
        }
      ]
    },
    {
      "cell_type": "code",
      "metadata": {
        "id": "4cGfov_8ZqWy"
      },
      "source": [
        "testTransform =[]\r\n",
        "for row in range(0, len(test.index)):\r\n",
        "    testTransform.append(' '.join(str(x) for x in test.iloc[row, 2:27]))\r\n",
        "    \r\n",
        "test_dataset = countVector.transform(testTransform)\r\n",
        "predictions = randomClassifier.predict(test_dataset)"
      ],
      "execution_count": 11,
      "outputs": []
    },
    {
      "cell_type": "code",
      "metadata": {
        "colab": {
          "base_uri": "https://localhost:8080/"
        },
        "id": "RfdSMSGWc9XD",
        "outputId": "7dfeb4d9-addc-4422-8180-b7f463a2f8da"
      },
      "source": [
        "array = countVector.transform(testTransform).toarray()\r\n",
        "print(array.shape)"
      ],
      "execution_count": 12,
      "outputs": [
        {
          "output_type": "stream",
          "text": [
            "(378, 403977)\n"
          ],
          "name": "stdout"
        }
      ]
    },
    {
      "cell_type": "code",
      "metadata": {
        "colab": {
          "base_uri": "https://localhost:8080/"
        },
        "id": "tEfbBz-jf-0U",
        "outputId": "df93625d-bd54-49b1-e7d8-f56785ebf50e"
      },
      "source": [
        "print(np.sum(array[1]))"
      ],
      "execution_count": 13,
      "outputs": [
        {
          "output_type": "stream",
          "text": [
            "449\n"
          ],
          "name": "stdout"
        }
      ]
    },
    {
      "cell_type": "code",
      "metadata": {
        "id": "KtHDZzvZliYw"
      },
      "source": [
        ""
      ],
      "execution_count": 13,
      "outputs": []
    },
    {
      "cell_type": "code",
      "metadata": {
        "colab": {
          "base_uri": "https://localhost:8080/"
        },
        "id": "GKBKjnKvZqZn",
        "outputId": "eac60caf-83a1-4359-e7c7-a1b5e64bbd5e"
      },
      "source": [
        "test.loc[1863, :]"
      ],
      "execution_count": 14,
      "outputs": [
        {
          "output_type": "execute_result",
          "data": {
            "text/plain": [
              "Date                                            2016-01-04\n",
              "Label                                                    0\n",
              "Top1     Saudi Arabia breaks off ties with Iran - Amid ...\n",
              "Top2     Exclusive: UK Government urged to reveal its r...\n",
              "Top3                 China halts trading as stocks fall 7%\n",
              "Top4      Earthquake measuring 6.8 magnitude strikes India\n",
              "Top5     A virus linked to shrinking newborns brains is...\n",
              "Top6     New photos of SpaceX booster show sooty, but u...\n",
              "Top7     Indian consulate in Afghanistan under attack b...\n",
              "Top8                             Iran calls off Major Hajj\n",
              "Top9     Denmark responds to Swedish border checks with...\n",
              "Top10    David Cameron criticised for turning 'blind ey...\n",
              "Top11    Denmark introduces temporary controls along Ge...\n",
              "Top12    Israel Retaliates to Hezbollah bombing at Leba...\n",
              "Top13    China Aims to Build 40 Nuclear Power Plants in...\n",
              "Top14    According to obtained documents, after rape an...\n",
              "Top15    Western Australian rooftop solar systems produ...\n",
              "Top16    Iranian leaders website posts controversial im...\n",
              "Top17    After Bahrain, Sudan expels Iranian ambassador...\n",
              "Top18    Saudi Arabia to cut off all air traffic with I...\n",
              "Top19    Hezbollah sets off large border bomb targeting...\n",
              "Top20    Iranian diplomats given 48 hours to leave Saud...\n",
              "Top21    BBC News: Migrant crisis: Sweden border checks...\n",
              "Top22    Teachers claim the politics of austerity is le...\n",
              "Top23    The Aftermath of a Muslim Cleric's Execution i...\n",
              "Top24        Iran: 40 arrested for attack on Saudi embassy\n",
              "Top25    Oil prices jump over 2 pct on Saudi Arabia, Ir...\n",
              "Name: 1863, dtype: object"
            ]
          },
          "metadata": {
            "tags": []
          },
          "execution_count": 14
        }
      ]
    },
    {
      "cell_type": "code",
      "metadata": {
        "colab": {
          "base_uri": "https://localhost:8080/"
        },
        "id": "EwCX2NxIZqca",
        "outputId": "59e23262-0136-48e9-fc00-6a1a8fb5cada"
      },
      "source": [
        "predictions"
      ],
      "execution_count": 15,
      "outputs": [
        {
          "output_type": "execute_result",
          "data": {
            "text/plain": [
              "array([1, 0, 0, 1, 1, 0, 0, 0, 0, 0, 1, 1, 1, 1, 0, 1, 0, 0, 1, 0, 1, 1,\n",
              "       1, 1, 0, 0, 1, 0, 1, 1, 1, 0, 0, 1, 0, 1, 1, 0, 0, 1, 0, 0, 1, 0,\n",
              "       1, 0, 0, 1, 0, 1, 0, 1, 0, 1, 0, 0, 0, 0, 1, 1, 0, 0, 1, 1, 0, 1,\n",
              "       1, 1, 0, 1, 1, 0, 0, 1, 0, 1, 1, 1, 0, 1, 0, 0, 1, 1, 0, 0, 1, 1,\n",
              "       0, 0, 0, 1, 1, 1, 1, 0, 1, 0, 0, 1, 0, 0, 1, 0, 1, 0, 0, 0, 0, 1,\n",
              "       1, 0, 0, 1, 1, 1, 0, 1, 1, 0, 0, 1, 0, 1, 1, 0, 0, 1, 0, 1, 1, 1,\n",
              "       1, 0, 1, 0, 1, 0, 0, 0, 0, 0, 1, 1, 0, 0, 0, 0, 0, 0, 0, 1, 0, 0,\n",
              "       1, 1, 1, 0, 0, 0, 0, 0, 0, 1, 1, 0, 0, 0, 1, 1, 0, 1, 0, 1, 1, 0,\n",
              "       1, 1, 0, 0, 1, 0, 0, 0, 1, 0, 1, 1, 0, 1, 1, 1, 1, 1, 1, 1, 0, 0,\n",
              "       1, 1, 1, 0, 0, 1, 1, 0, 0, 1, 0, 0, 1, 1, 0, 0, 1, 0, 1, 0, 0, 0,\n",
              "       1, 1, 1, 0, 1, 0, 1, 1, 0, 0, 1, 0, 0, 1, 0, 0, 0, 1, 0, 1, 1, 1,\n",
              "       0, 0, 1, 1, 1, 0, 0, 1, 0, 0, 1, 0, 1, 1, 1, 1, 1, 1, 1, 1, 1, 1,\n",
              "       1, 1, 1, 1, 1, 1, 1, 1, 1, 1, 1, 1, 1, 1, 1, 1, 1, 1, 1, 1, 1, 1,\n",
              "       1, 1, 1, 1, 1, 1, 1, 1, 1, 1, 1, 1, 1, 1, 1, 1, 1, 1, 1, 1, 1, 1,\n",
              "       1, 1, 1, 1, 1, 1, 1, 1, 1, 1, 1, 1, 1, 1, 1, 1, 1, 1, 1, 1, 1, 1,\n",
              "       1, 1, 1, 1, 1, 1, 0, 1, 1, 1, 1, 1, 1, 1, 1, 1, 1, 1, 1, 1, 1, 1,\n",
              "       1, 1, 1, 1, 1, 1, 1, 1, 1, 1, 1, 1, 1, 1, 1, 1, 0, 1, 1, 1, 1, 1,\n",
              "       1, 1, 1, 1])"
            ]
          },
          "metadata": {
            "tags": []
          },
          "execution_count": 15
        }
      ]
    },
    {
      "cell_type": "code",
      "metadata": {
        "id": "GCuFFVj6ZqfY"
      },
      "source": [
        "from sklearn.metrics import classification_report, confusion_matrix, accuracy_score"
      ],
      "execution_count": 16,
      "outputs": []
    },
    {
      "cell_type": "code",
      "metadata": {
        "colab": {
          "base_uri": "https://localhost:8080/"
        },
        "id": "66DMWpNkZqil",
        "outputId": "af53047f-49ef-4e11-f59e-c79904325b97"
      },
      "source": [
        "matrix = confusion_matrix(test['Label'], predictions)\r\n",
        "print(matrix)\r\n",
        "score = accuracy_score(test['Label'], predictions)\r\n",
        "print(score)\r\n",
        "report = classification_report(test['Label'], predictions)\r\n",
        "print(report)"
      ],
      "execution_count": 17,
      "outputs": [
        {
          "output_type": "stream",
          "text": [
            "[[131  55]\n",
            " [  2 190]]\n",
            "0.8492063492063492\n",
            "              precision    recall  f1-score   support\n",
            "\n",
            "           0       0.98      0.70      0.82       186\n",
            "           1       0.78      0.99      0.87       192\n",
            "\n",
            "    accuracy                           0.85       378\n",
            "   macro avg       0.88      0.85      0.85       378\n",
            "weighted avg       0.88      0.85      0.85       378\n",
            "\n"
          ],
          "name": "stdout"
        }
      ]
    },
    {
      "cell_type": "code",
      "metadata": {
        "id": "cMnKhcDQaVUJ",
        "colab": {
          "base_uri": "https://localhost:8080/"
        },
        "outputId": "06ba37ad-f93f-4c85-95bf-64f0c913a7e4"
      },
      "source": [
        "trainDataset"
      ],
      "execution_count": 18,
      "outputs": [
        {
          "output_type": "execute_result",
          "data": {
            "text/plain": [
              "<1863x403977 sparse matrix of type '<class 'numpy.int64'>'\n",
              "\twith 771733 stored elements in Compressed Sparse Row format>"
            ]
          },
          "metadata": {
            "tags": []
          },
          "execution_count": 18
        }
      ]
    },
    {
      "cell_type": "code",
      "metadata": {
        "id": "CVjuJckRaVXC"
      },
      "source": [
        ""
      ],
      "execution_count": 18,
      "outputs": []
    },
    {
      "cell_type": "code",
      "metadata": {
        "id": "9i-bwQcjaVZ2"
      },
      "source": [
        ""
      ],
      "execution_count": 18,
      "outputs": []
    },
    {
      "cell_type": "code",
      "metadata": {
        "id": "bnmjA4f9aVcV"
      },
      "source": [
        "import pandas\r\n",
        "import joblib\r\n",
        "import numpy as np\r\n",
        "import matplotlib.pyplot as plt\r\n",
        "import sklearn.model_selection\r\n",
        "import sklearn.metrics\r\n",
        "import sklearn.neural_network\r\n",
        "from sklearn import metrics"
      ],
      "execution_count": 19,
      "outputs": []
    },
    {
      "cell_type": "code",
      "metadata": {
        "id": "kyfSbCaQaVh2"
      },
      "source": [
        "model = sklearn.neural_network.MLPClassifier(hidden_layer_sizes=(400, 100), activation='relu', solver='adam', \r\n",
        "                                                 alpha=0.0001, batch_size='auto', learning_rate='constant', learning_rate_init=0.001, power_t=0.5, \r\n",
        "                                                 max_iter=5000, shuffle=True, random_state=1, tol=0.0001, verbose=False, warm_start=False, momentum=0.9, \r\n",
        "                                                 nesterovs_momentum=True, early_stopping=True, validation_fraction=0.1, beta_1=0.9, beta_2=0.999, epsilon=1e-08, \r\n",
        "                                                 n_iter_no_change=10)\r\n",
        "  \r\n",
        "model.fit(trainDataset, train['Label']) \r\n",
        "   \r\n",
        "predictions = model.predict(test_dataset)\r\n",
        "accuracy = sklearn.metrics.accuracy_score(test['Label'], predictions)"
      ],
      "execution_count": 25,
      "outputs": []
    },
    {
      "cell_type": "code",
      "metadata": {
        "colab": {
          "base_uri": "https://localhost:8080/"
        },
        "id": "iTdn5rrvm-az",
        "outputId": "07de0cfb-4219-4a77-84a1-66be2466fa27"
      },
      "source": [
        "print('Accuracy: {0:.2f}'.format(accuracy * 100.0))\r\n",
        "print('Classification Report:')\r\n",
        "print(sklearn.metrics.classification_report(test['Label'], predictions))\r\n",
        "print('Confusion Matrix:')\r\n",
        "print(sklearn.metrics.confusion_matrix(test['Label'], predictions))"
      ],
      "execution_count": 26,
      "outputs": [
        {
          "output_type": "stream",
          "text": [
            "Accuracy: 83.60\n",
            "Classification Report:\n",
            "              precision    recall  f1-score   support\n",
            "\n",
            "           0       0.85      0.81      0.83       186\n",
            "           1       0.82      0.86      0.84       192\n",
            "\n",
            "    accuracy                           0.84       378\n",
            "   macro avg       0.84      0.84      0.84       378\n",
            "weighted avg       0.84      0.84      0.84       378\n",
            "\n",
            "Confusion Matrix:\n",
            "[[151  35]\n",
            " [ 27 165]]\n"
          ],
          "name": "stdout"
        }
      ]
    },
    {
      "cell_type": "code",
      "metadata": {
        "id": "diEDZofvwy26"
      },
      "source": [
        "from sklearn import metrics"
      ],
      "execution_count": 23,
      "outputs": []
    },
    {
      "cell_type": "code",
      "metadata": {
        "colab": {
          "base_uri": "https://localhost:8080/",
          "height": 278
        },
        "id": "66hglrBKwDE0",
        "outputId": "a543c25b-8964-4e41-fd1f-ed3bfaab9720"
      },
      "source": [
        "metrics.plot_roc_curve(model, test_dataset, test['Label'])  \r\n",
        "plt.show()"
      ],
      "execution_count": 30,
      "outputs": [
        {
          "output_type": "display_data",
          "data": {
            "image/png": "[encoded data removed]",
            "text/plain": [
              "<Figure size 432x288 with 1 Axes>"
            ]
          },
          "metadata": {
            "tags": [],
            "needs_background": "light"
          }
        }
      ]
    }
  ]
}